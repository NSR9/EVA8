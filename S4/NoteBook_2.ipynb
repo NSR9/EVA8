{
  "nbformat": 4,
  "nbformat_minor": 0,
  "metadata": {
    "colab": {
      "provenance": [],
      "include_colab_link": true
    },
    "kernelspec": {
      "name": "python3",
      "display_name": "Python 3"
    },
    "accelerator": "GPU"
  },
  "cells": [
    {
      "cell_type": "markdown",
      "metadata": {
        "id": "view-in-github",
        "colab_type": "text"
      },
      "source": [
        "<a href=\"https://colab.research.google.com/github/NSR9/EVA8/blob/main/S4/NoteBook_2.ipynb\" target=\"_parent\"><img src=\"https://colab.research.google.com/assets/colab-badge.svg\" alt=\"Open In Colab\"/></a>"
      ]
    },
    {
      "cell_type": "markdown",
      "metadata": {
        "id": "LIGY86WZnD1n"
      },
      "source": [
        "#NoteBook 2:-\n",
        "##Target:\n",
        "* Increase the Capacity of the Model\n",
        "* Added BatchNormalization in the conv layers\n",
        "* Added Dropout of 0.05 as a regularization parameter\n",
        "\n",
        "## Results: (to Change)\n",
        "* Parameters: **8,340**\n",
        "* Best Train Accuracy: **98.91% at 11th Epoch**\n",
        "* Best Test Accuracy: **99.33% at 11th Epoch**\n",
        "\n",
        "## Analysis:\n",
        "* Adding Dropout has removed overfitting considerably.\n",
        "* Adding Batch Normalization helped in increasing the accuracy.\n",
        "* Increasing Capacity of the model also had impact on the accuracy.\n",
        "* Image Augmentation is required to improvise the accuracy and reach the goal with the limited parameters.\n",
        "* The Achieved Accuracy fluctuates a lot\n"
      ]
    },
    {
      "cell_type": "code",
      "metadata": {
        "id": "0m2JWFliFfKT"
      },
      "source": [
        "from __future__ import print_function\n",
        "import torch\n",
        "import torch.nn as nn\n",
        "import torch.nn.functional as F\n",
        "import torch.optim as optim\n",
        "from torchvision import datasets, transforms\n",
        "\n",
        "import matplotlib.pyplot as plt\n",
        "\n",
        "import numpy as np\n",
        "import seaborn as sns"
      ],
      "execution_count": 9,
      "outputs": []
    },
    {
      "cell_type": "code",
      "metadata": {
        "id": "h_Cx9q2QFgM7"
      },
      "source": [
        "dropout_value = 0.05\n",
        "class Net(nn.Module):\n",
        "    def __init__(self):\n",
        "        super(Net, self).__init__()\n",
        "        \n",
        "        ##Conv Block 1\n",
        "        self.conv_block1 = nn.Sequential(\n",
        "              nn.Conv2d(in_channels=1, out_channels=8, kernel_size=3, padding=1, bias=False), #28, 28\n",
        "              nn.ReLU(),\n",
        "              nn.BatchNorm2d(8),\n",
        "              nn.Dropout(dropout_value),\n",
        "\n",
        "              nn.Conv2d(in_channels=8, out_channels=10, kernel_size=3, padding=1, bias=False), #28, 28\n",
        "              nn.ReLU(),\n",
        "              nn.BatchNorm2d(10),\n",
        "              nn.Dropout(dropout_value),\n",
        "        )\n",
        "\n",
        "        ##Transition Block 1\n",
        "        self.trans1 = nn.Sequential(\n",
        "              nn.MaxPool2d(2, 2),#28, 14\n",
        "        )\n",
        "\n",
        "        ##Conv Block 2        \n",
        "        self.conv_block2 = nn.Sequential(\n",
        "              nn.Conv2d(in_channels=10, out_channels=10, kernel_size=3, padding=0, bias=False),#14, 12\n",
        "              nn.ReLU(),\n",
        "              nn.BatchNorm2d(10),\n",
        "              nn.Dropout(dropout_value),\n",
        "\n",
        "              nn.Conv2d(in_channels=10, out_channels=16, kernel_size=3, padding=0, bias=False),#12, 10\n",
        "              nn.ReLU(),\n",
        "              nn.BatchNorm2d(16),\n",
        "              nn.Dropout(dropout_value),\n",
        "              \n",
        "              nn.Conv2d(in_channels=16, out_channels=16, kernel_size=3, padding=0, bias=False),#10, 8\n",
        "              nn.ReLU(),\n",
        "              nn.BatchNorm2d(16),\n",
        "              nn.Dropout(dropout_value),\n",
        "              \n",
        "              nn.Conv2d(in_channels=16, out_channels=16, kernel_size=3, padding=0, bias=False),#8, 6\n",
        "              nn.ReLU(),\n",
        "              nn.BatchNorm2d(16),\n",
        "              nn.Dropout(dropout_value),\n",
        "        )\n",
        "\n",
        "        ##Global Average Pooling\n",
        "        self.gap = nn.Sequential(\n",
        "              nn.AvgPool2d(kernel_size=6, stride=1, padding = 0),#6, 1\n",
        "        ) \n",
        "\n",
        "        ##Conv Block 1\n",
        "        self.conv_block3 = nn.Sequential(\n",
        "             nn.Conv2d(in_channels=16, out_channels=16, kernel_size=1, padding=0, bias=False),#6, 4\n",
        "              nn.ReLU(),\n",
        "              nn.BatchNorm2d(16),\n",
        "              nn.Dropout(dropout_value),\n",
        "              \n",
        "              nn.Conv2d(in_channels=16, out_channels=10, kernel_size=(1, 1), padding=0, bias=False),#1, 1\n",
        "        )\n",
        "\n",
        "    def forward(self, x):\n",
        "\n",
        "        x =  self.conv_block1(x)\n",
        "        x =  self.trans1(x)\n",
        "        x =  self.conv_block2(x)\n",
        "        x =  self.gap(x)\n",
        "        x =  self.conv_block3(x)\n",
        "        x = x.view(x.size(0), -1)\n",
        "        return F.log_softmax(x)"
      ],
      "execution_count": 10,
      "outputs": []
    },
    {
      "cell_type": "markdown",
      "metadata": {
        "id": "yojPLR2RnpDU"
      },
      "source": [
        "##Model Summary:\n",
        "\n",
        "#### Params used 8,052"
      ]
    },
    {
      "cell_type": "code",
      "metadata": {
        "id": "xdydjYTZFyi3",
        "colab": {
          "base_uri": "https://localhost:8080/"
        },
        "outputId": "d577f35b-3e45-4b7a-888f-84765df9fd14"
      },
      "source": [
        "from torchsummary import summary\n",
        "use_cuda = torch.cuda.is_available()\n",
        "device = torch.device(\"cuda\" if use_cuda else \"cpu\")\n",
        "model = Net().to(device)\n",
        "summary(model, input_size=(1, 28, 28))"
      ],
      "execution_count": 11,
      "outputs": [
        {
          "output_type": "stream",
          "name": "stdout",
          "text": [
            "----------------------------------------------------------------\n",
            "        Layer (type)               Output Shape         Param #\n",
            "================================================================\n",
            "            Conv2d-1            [-1, 8, 28, 28]              72\n",
            "              ReLU-2            [-1, 8, 28, 28]               0\n",
            "       BatchNorm2d-3            [-1, 8, 28, 28]              16\n",
            "           Dropout-4            [-1, 8, 28, 28]               0\n",
            "            Conv2d-5           [-1, 10, 28, 28]             720\n",
            "              ReLU-6           [-1, 10, 28, 28]               0\n",
            "       BatchNorm2d-7           [-1, 10, 28, 28]              20\n",
            "           Dropout-8           [-1, 10, 28, 28]               0\n",
            "         MaxPool2d-9           [-1, 10, 14, 14]               0\n",
            "           Conv2d-10           [-1, 10, 12, 12]             900\n",
            "             ReLU-11           [-1, 10, 12, 12]               0\n",
            "      BatchNorm2d-12           [-1, 10, 12, 12]              20\n",
            "          Dropout-13           [-1, 10, 12, 12]               0\n",
            "           Conv2d-14           [-1, 16, 10, 10]           1,440\n",
            "             ReLU-15           [-1, 16, 10, 10]               0\n",
            "      BatchNorm2d-16           [-1, 16, 10, 10]              32\n",
            "          Dropout-17           [-1, 16, 10, 10]               0\n",
            "           Conv2d-18             [-1, 16, 8, 8]           2,304\n",
            "             ReLU-19             [-1, 16, 8, 8]               0\n",
            "      BatchNorm2d-20             [-1, 16, 8, 8]              32\n",
            "          Dropout-21             [-1, 16, 8, 8]               0\n",
            "           Conv2d-22             [-1, 16, 6, 6]           2,304\n",
            "             ReLU-23             [-1, 16, 6, 6]               0\n",
            "      BatchNorm2d-24             [-1, 16, 6, 6]              32\n",
            "          Dropout-25             [-1, 16, 6, 6]               0\n",
            "        AvgPool2d-26             [-1, 16, 1, 1]               0\n",
            "           Conv2d-27             [-1, 16, 1, 1]             256\n",
            "             ReLU-28             [-1, 16, 1, 1]               0\n",
            "      BatchNorm2d-29             [-1, 16, 1, 1]              32\n",
            "          Dropout-30             [-1, 16, 1, 1]               0\n",
            "           Conv2d-31             [-1, 10, 1, 1]             160\n",
            "================================================================\n",
            "Total params: 8,340\n",
            "Trainable params: 8,340\n",
            "Non-trainable params: 0\n",
            "----------------------------------------------------------------\n",
            "Input size (MB): 0.00\n",
            "Forward/backward pass size (MB): 0.59\n",
            "Params size (MB): 0.03\n",
            "Estimated Total Size (MB): 0.62\n",
            "----------------------------------------------------------------\n"
          ]
        },
        {
          "output_type": "stream",
          "name": "stderr",
          "text": [
            "<ipython-input-10-da35ff0fa509>:70: UserWarning: Implicit dimension choice for log_softmax has been deprecated. Change the call to include dim=X as an argument.\n",
            "  return F.log_softmax(x)\n"
          ]
        }
      ]
    },
    {
      "cell_type": "code",
      "metadata": {
        "colab": {
          "base_uri": "https://localhost:8080/"
        },
        "id": "tn9FO0SYanpr",
        "outputId": "ce51a53d-fdc6-4fc8-e226-01c1e6dc42cf"
      },
      "source": [
        "model.eval()"
      ],
      "execution_count": 12,
      "outputs": [
        {
          "output_type": "execute_result",
          "data": {
            "text/plain": [
              "Net(\n",
              "  (conv_block1): Sequential(\n",
              "    (0): Conv2d(1, 8, kernel_size=(3, 3), stride=(1, 1), padding=(1, 1), bias=False)\n",
              "    (1): ReLU()\n",
              "    (2): BatchNorm2d(8, eps=1e-05, momentum=0.1, affine=True, track_running_stats=True)\n",
              "    (3): Dropout(p=0.05, inplace=False)\n",
              "    (4): Conv2d(8, 10, kernel_size=(3, 3), stride=(1, 1), padding=(1, 1), bias=False)\n",
              "    (5): ReLU()\n",
              "    (6): BatchNorm2d(10, eps=1e-05, momentum=0.1, affine=True, track_running_stats=True)\n",
              "    (7): Dropout(p=0.05, inplace=False)\n",
              "  )\n",
              "  (trans1): Sequential(\n",
              "    (0): MaxPool2d(kernel_size=2, stride=2, padding=0, dilation=1, ceil_mode=False)\n",
              "  )\n",
              "  (conv_block2): Sequential(\n",
              "    (0): Conv2d(10, 10, kernel_size=(3, 3), stride=(1, 1), bias=False)\n",
              "    (1): ReLU()\n",
              "    (2): BatchNorm2d(10, eps=1e-05, momentum=0.1, affine=True, track_running_stats=True)\n",
              "    (3): Dropout(p=0.05, inplace=False)\n",
              "    (4): Conv2d(10, 16, kernel_size=(3, 3), stride=(1, 1), bias=False)\n",
              "    (5): ReLU()\n",
              "    (6): BatchNorm2d(16, eps=1e-05, momentum=0.1, affine=True, track_running_stats=True)\n",
              "    (7): Dropout(p=0.05, inplace=False)\n",
              "    (8): Conv2d(16, 16, kernel_size=(3, 3), stride=(1, 1), bias=False)\n",
              "    (9): ReLU()\n",
              "    (10): BatchNorm2d(16, eps=1e-05, momentum=0.1, affine=True, track_running_stats=True)\n",
              "    (11): Dropout(p=0.05, inplace=False)\n",
              "    (12): Conv2d(16, 16, kernel_size=(3, 3), stride=(1, 1), bias=False)\n",
              "    (13): ReLU()\n",
              "    (14): BatchNorm2d(16, eps=1e-05, momentum=0.1, affine=True, track_running_stats=True)\n",
              "    (15): Dropout(p=0.05, inplace=False)\n",
              "  )\n",
              "  (gap): Sequential(\n",
              "    (0): AvgPool2d(kernel_size=6, stride=1, padding=0)\n",
              "  )\n",
              "  (conv_block3): Sequential(\n",
              "    (0): Conv2d(16, 16, kernel_size=(1, 1), stride=(1, 1), bias=False)\n",
              "    (1): ReLU()\n",
              "    (2): BatchNorm2d(16, eps=1e-05, momentum=0.1, affine=True, track_running_stats=True)\n",
              "    (3): Dropout(p=0.05, inplace=False)\n",
              "    (4): Conv2d(16, 10, kernel_size=(1, 1), stride=(1, 1), bias=False)\n",
              "  )\n",
              ")"
            ]
          },
          "metadata": {},
          "execution_count": 12
        }
      ]
    },
    {
      "cell_type": "markdown",
      "metadata": {
        "id": "xB-78nafnxM1"
      },
      "source": [
        "## Loading DataSet:\n"
      ]
    },
    {
      "cell_type": "code",
      "metadata": {
        "id": "DqTWLaM5GHgH"
      },
      "source": [
        "torch.manual_seed(1)\n",
        "batch_size = 128\n",
        "\n",
        "kwargs = {'num_workers': 1, 'pin_memory': True} if use_cuda else {}\n",
        "train_loader = torch.utils.data.DataLoader(\n",
        "    datasets.MNIST('../data', train=True, download=True,\n",
        "                    transform=transforms.Compose([\n",
        "                        transforms.ToTensor(),\n",
        "                        transforms.Normalize((0.1307,), (0.3081,))\n",
        "                    ])),\n",
        "    batch_size=batch_size, shuffle=True, **kwargs)\n",
        "test_loader = torch.utils.data.DataLoader(\n",
        "    datasets.MNIST('../data', train=False, transform=transforms.Compose([\n",
        "                        transforms.ToTensor(),\n",
        "                        transforms.Normalize((0.1307,), (0.3081,))\n",
        "                    ])),\n",
        "    batch_size=batch_size, shuffle=True, **kwargs)"
      ],
      "execution_count": 13,
      "outputs": []
    },
    {
      "cell_type": "markdown",
      "metadata": {
        "id": "Zz8tzhvcnzAX"
      },
      "source": [
        "## Train Test Functions:"
      ]
    },
    {
      "cell_type": "code",
      "metadata": {
        "id": "8fDefDhaFlwH"
      },
      "source": [
        "from tqdm import tqdm\n",
        "def train(model, device, train_loader, optimizer, epoch):\n",
        "    model.train()\n",
        "    train_loss = 0\n",
        "    correct = 0\n",
        "    processed = 0\n",
        "    pbar = tqdm(train_loader)\n",
        "    for batch_idx, (data, target) in enumerate(pbar):\n",
        "        data, target = data.to(device), target.to(device)\n",
        "        optimizer.zero_grad()\n",
        "        output = model(data)\n",
        "        loss = F.nll_loss(output, target)\n",
        "        train_loss += loss.item()\n",
        "        loss.backward()\n",
        "        optimizer.step()\n",
        "        processed += len(data)\n",
        "        pbar.set_description(desc= f'Epoch{epoch} : Loss={loss.item()}  Accuracy={100*correct/processed:0.2f} Batch_id={batch_idx}')\n",
        "        pred = output.argmax(dim=1, keepdim=True)\n",
        "        correct += pred.eq(target.view_as(pred)).sum().item()\n",
        "\n",
        "    train_loss /= len(train_loader)\n",
        "    train_acc = 100.00*correct/len(train_loader.dataset)\n",
        "    return train_acc, train_loss\n",
        "\n",
        "def test(model, device, test_loader):\n",
        "    model.eval()\n",
        "    test_loss = 0\n",
        "    correct = 0\n",
        "    with torch.no_grad():\n",
        "        for data, target in test_loader:\n",
        "            data, target = data.to(device), target.to(device)\n",
        "            output = model(data)\n",
        "            test_loss += F.nll_loss(output, target, reduction='sum').item()  # sum up batch loss\n",
        "            pred = output.argmax(dim=1, keepdim=True)  # get the index of the max log-probability\n",
        "            correct += pred.eq(target.view_as(pred)).sum().item()\n",
        "\n",
        "    test_loss /= len(test_loader.dataset)\n",
        "    print('\\nTest set: Average loss: {:.4f}, Accuracy: {}/{} ({:.2f}%)\\n'.format(\n",
        "        test_loss, correct, len(test_loader.dataset),\n",
        "        100. * correct / len(test_loader.dataset)))\n",
        "    test_acc = 100.00 * correct / len(test_loader.dataset)\n",
        "    return test_acc, test_loss\n"
      ],
      "execution_count": 14,
      "outputs": []
    },
    {
      "cell_type": "markdown",
      "metadata": {
        "id": "kHjJCUOvn2jL"
      },
      "source": [
        "## Model Training:"
      ]
    },
    {
      "cell_type": "code",
      "source": [
        "model = Net().to(device)\n",
        "optimizer = optim.SGD(model.parameters(), lr=0.01, momentum=0.9)"
      ],
      "metadata": {
        "id": "7jloI4r8UjLf"
      },
      "execution_count": 15,
      "outputs": []
    },
    {
      "cell_type": "code",
      "source": [
        "train_loss_values = []\n",
        "test_loss_values = []\n",
        "train_accuracy_values = []\n",
        "test_accuracy_values = []\n"
      ],
      "metadata": {
        "id": "C9hKIA30UjBa"
      },
      "execution_count": 16,
      "outputs": []
    },
    {
      "cell_type": "code",
      "metadata": {
        "id": "MMWbLWO6FuHb",
        "colab": {
          "base_uri": "https://localhost:8080/"
        },
        "outputId": "befc2296-9ee0-4ea5-dea9-dae140196105"
      },
      "source": [
        "for epoch in range(1, 15):\n",
        "    train_acc, train_loss = train(model, device, train_loader, optimizer, epoch)\n",
        "    test_acc, test_loss = test(model, device, test_loader)\n",
        "\n",
        "    train_accuracy_values.append(train_acc)\n",
        "    train_loss_values.append(train_loss)\n",
        "\n",
        "    test_accuracy_values.append(test_acc)\n",
        "    test_loss_values.append(test_loss)\n",
        "\n",
        "    \n"
      ],
      "execution_count": 17,
      "outputs": [
        {
          "output_type": "stream",
          "name": "stderr",
          "text": [
            "  0%|          | 0/469 [00:00<?, ?it/s]<ipython-input-10-da35ff0fa509>:70: UserWarning: Implicit dimension choice for log_softmax has been deprecated. Change the call to include dim=X as an argument.\n",
            "  return F.log_softmax(x)\n",
            "Epoch1 : Loss=0.18584294617176056  Accuracy=91.62 Batch_id=468: 100%|██████████| 469/469 [00:15<00:00, 29.33it/s]\n"
          ]
        },
        {
          "output_type": "stream",
          "name": "stdout",
          "text": [
            "\n",
            "Test set: Average loss: 0.0705, Accuracy: 9774/10000 (97.74%)\n",
            "\n"
          ]
        },
        {
          "output_type": "stream",
          "name": "stderr",
          "text": [
            "Epoch2 : Loss=0.0948280468583107  Accuracy=97.52 Batch_id=468: 100%|██████████| 469/469 [00:16<00:00, 28.71it/s]\n"
          ]
        },
        {
          "output_type": "stream",
          "name": "stdout",
          "text": [
            "\n",
            "Test set: Average loss: 0.0467, Accuracy: 9860/10000 (98.60%)\n",
            "\n"
          ]
        },
        {
          "output_type": "stream",
          "name": "stderr",
          "text": [
            "Epoch3 : Loss=0.09005428105592728  Accuracy=98.09 Batch_id=468: 100%|██████████| 469/469 [00:16<00:00, 28.83it/s]\n"
          ]
        },
        {
          "output_type": "stream",
          "name": "stdout",
          "text": [
            "\n",
            "Test set: Average loss: 0.0381, Accuracy: 9878/10000 (98.78%)\n",
            "\n"
          ]
        },
        {
          "output_type": "stream",
          "name": "stderr",
          "text": [
            "Epoch4 : Loss=0.030664486810564995  Accuracy=98.31 Batch_id=468: 100%|██████████| 469/469 [00:16<00:00, 28.79it/s]\n"
          ]
        },
        {
          "output_type": "stream",
          "name": "stdout",
          "text": [
            "\n",
            "Test set: Average loss: 0.0353, Accuracy: 9892/10000 (98.92%)\n",
            "\n"
          ]
        },
        {
          "output_type": "stream",
          "name": "stderr",
          "text": [
            "Epoch5 : Loss=0.01053394004702568  Accuracy=98.50 Batch_id=468: 100%|██████████| 469/469 [00:16<00:00, 28.74it/s]\n"
          ]
        },
        {
          "output_type": "stream",
          "name": "stdout",
          "text": [
            "\n",
            "Test set: Average loss: 0.0304, Accuracy: 9908/10000 (99.08%)\n",
            "\n"
          ]
        },
        {
          "output_type": "stream",
          "name": "stderr",
          "text": [
            "Epoch6 : Loss=0.04754998907446861  Accuracy=98.62 Batch_id=468: 100%|██████████| 469/469 [00:16<00:00, 28.78it/s]\n"
          ]
        },
        {
          "output_type": "stream",
          "name": "stdout",
          "text": [
            "\n",
            "Test set: Average loss: 0.0269, Accuracy: 9914/10000 (99.14%)\n",
            "\n"
          ]
        },
        {
          "output_type": "stream",
          "name": "stderr",
          "text": [
            "Epoch7 : Loss=0.04507465288043022  Accuracy=98.71 Batch_id=468: 100%|██████████| 469/469 [00:16<00:00, 28.58it/s]\n"
          ]
        },
        {
          "output_type": "stream",
          "name": "stdout",
          "text": [
            "\n",
            "Test set: Average loss: 0.0255, Accuracy: 9926/10000 (99.26%)\n",
            "\n"
          ]
        },
        {
          "output_type": "stream",
          "name": "stderr",
          "text": [
            "Epoch8 : Loss=0.014820032753050327  Accuracy=98.79 Batch_id=468: 100%|██████████| 469/469 [00:15<00:00, 29.32it/s]\n"
          ]
        },
        {
          "output_type": "stream",
          "name": "stdout",
          "text": [
            "\n",
            "Test set: Average loss: 0.0275, Accuracy: 9911/10000 (99.11%)\n",
            "\n"
          ]
        },
        {
          "output_type": "stream",
          "name": "stderr",
          "text": [
            "Epoch9 : Loss=0.044561415910720825  Accuracy=98.83 Batch_id=468: 100%|██████████| 469/469 [00:16<00:00, 29.29it/s]\n"
          ]
        },
        {
          "output_type": "stream",
          "name": "stdout",
          "text": [
            "\n",
            "Test set: Average loss: 0.0232, Accuracy: 9931/10000 (99.31%)\n",
            "\n"
          ]
        },
        {
          "output_type": "stream",
          "name": "stderr",
          "text": [
            "Epoch10 : Loss=0.018450487405061722  Accuracy=98.84 Batch_id=468: 100%|██████████| 469/469 [00:16<00:00, 27.98it/s]\n"
          ]
        },
        {
          "output_type": "stream",
          "name": "stdout",
          "text": [
            "\n",
            "Test set: Average loss: 0.0263, Accuracy: 9918/10000 (99.18%)\n",
            "\n"
          ]
        },
        {
          "output_type": "stream",
          "name": "stderr",
          "text": [
            "Epoch11 : Loss=0.03073512203991413  Accuracy=98.91 Batch_id=468: 100%|██████████| 469/469 [00:16<00:00, 28.90it/s]\n"
          ]
        },
        {
          "output_type": "stream",
          "name": "stdout",
          "text": [
            "\n",
            "Test set: Average loss: 0.0234, Accuracy: 9933/10000 (99.33%)\n",
            "\n"
          ]
        },
        {
          "output_type": "stream",
          "name": "stderr",
          "text": [
            "Epoch12 : Loss=0.017834613099694252  Accuracy=98.89 Batch_id=468: 100%|██████████| 469/469 [00:16<00:00, 29.11it/s]\n"
          ]
        },
        {
          "output_type": "stream",
          "name": "stdout",
          "text": [
            "\n",
            "Test set: Average loss: 0.0246, Accuracy: 9919/10000 (99.19%)\n",
            "\n"
          ]
        },
        {
          "output_type": "stream",
          "name": "stderr",
          "text": [
            "Epoch13 : Loss=0.05857199802994728  Accuracy=98.99 Batch_id=468: 100%|██████████| 469/469 [00:16<00:00, 29.14it/s]\n"
          ]
        },
        {
          "output_type": "stream",
          "name": "stdout",
          "text": [
            "\n",
            "Test set: Average loss: 0.0246, Accuracy: 9920/10000 (99.20%)\n",
            "\n"
          ]
        },
        {
          "output_type": "stream",
          "name": "stderr",
          "text": [
            "Epoch14 : Loss=0.013119586743414402  Accuracy=99.01 Batch_id=468: 100%|██████████| 469/469 [00:16<00:00, 28.99it/s]\n"
          ]
        },
        {
          "output_type": "stream",
          "name": "stdout",
          "text": [
            "\n",
            "Test set: Average loss: 0.0226, Accuracy: 9925/10000 (99.25%)\n",
            "\n"
          ]
        }
      ]
    },
    {
      "cell_type": "code",
      "metadata": {
        "colab": {
          "base_uri": "https://localhost:8080/",
          "height": 644
        },
        "id": "XPIr6HiAobTE",
        "outputId": "ba65d505-73ca-473e-c67b-86dac7c805f8"
      },
      "source": [
        "sns.set(style='whitegrid')\n",
        "sns.set(font_scale=1.5)\n",
        "plt.rcParams[\"figure.figsize\"] = (20,10)\n",
        "\n",
        "# Plot the learning curve.\n",
        "fig, (plt1,plt2) = plt.subplots(1,2)\n",
        "plt1.plot(np.array(train_loss_values), 'r', label=\"Training Loss\")\n",
        "plt1.plot(np.array(test_loss_values), 'b', label=\"Validation Loss\")\n",
        "plt2.plot(np.array(train_accuracy_values), 'r', label=\"Training Accuracy\")\n",
        "plt2.plot(np.array(test_accuracy_values), 'b', label=\"Validation Accuracy\")\n",
        "\n",
        "plt2.set_title(\"Training-Validation Accuracy Curve\")\n",
        "plt2.set_xlabel(\"Epoch\")\n",
        "plt2.set_ylabel(\"Accuracy\")\n",
        "plt2.legend()\n",
        "plt1.set_title(\"Training-Validation Loss Curve\")\n",
        "plt1.set_xlabel(\"Epoch\")\n",
        "plt1.set_ylabel(\"Loss\")\n",
        "plt1.legend()\n",
        "\n",
        "plt.show()"
      ],
      "execution_count": 18,
      "outputs": [
        {
          "output_type": "display_data",
          "data": {
            "text/plain": [
              "<Figure size 1440x720 with 2 Axes>"
            ],
            "image/png": "[encoded data removed]"
          },
          "metadata": {}
        }
      ]
    },
    {
      "cell_type": "code",
      "metadata": {
        "id": "_FZswqZgxA2d"
      },
      "source": [],
      "execution_count": 18,
      "outputs": []
    }
  ]
}