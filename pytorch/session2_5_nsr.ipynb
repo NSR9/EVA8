{
  "nbformat": 4,
  "nbformat_minor": 0,
  "metadata": {
    "colab": {
      "provenance": [],
      "machine_shape": "hm",
      "authorship_tag": "ABX9TyMJGPYiluHEc1WL9UdQPo0u",
      "include_colab_link": true
    },
    "kernelspec": {
      "name": "python3",
      "display_name": "Python 3"
    },
    "language_info": {
      "name": "python"
    },
    "accelerator": "GPU",
    "gpuClass": "standard",
    "widgets": {
      "application/vnd.jupyter.widget-state+json": {
        "68ea3d91e73d48bdb77e98de7a2d1b77": {
          "model_module": "@jupyter-widgets/controls",
          "model_name": "HBoxModel",
          "model_module_version": "1.5.0",
          "state": {
            "_dom_classes": [],
            "_model_module": "@jupyter-widgets/controls",
            "_model_module_version": "1.5.0",
            "_model_name": "HBoxModel",
            "_view_count": null,
            "_view_module": "@jupyter-widgets/controls",
            "_view_module_version": "1.5.0",
            "_view_name": "HBoxView",
            "box_style": "",
            "children": [
              "IPY_MODEL_0693c7d744d14576ac11753ad9d3e6eb",
              "IPY_MODEL_05be7552ff8741d9a539b6f8b1ccbd5c",
              "IPY_MODEL_429f088c754e4e888399f2faf85eff29"
            ],
            "layout": "IPY_MODEL_2bef7d44d737422fae4f04ca82303ffb"
          }
        },
        "0693c7d744d14576ac11753ad9d3e6eb": {
          "model_module": "@jupyter-widgets/controls",
          "model_name": "HTMLModel",
          "model_module_version": "1.5.0",
          "state": {
            "_dom_classes": [],
            "_model_module": "@jupyter-widgets/controls",
            "_model_module_version": "1.5.0",
            "_model_name": "HTMLModel",
            "_view_count": null,
            "_view_module": "@jupyter-widgets/controls",
            "_view_module_version": "1.5.0",
            "_view_name": "HTMLView",
            "description": "",
            "description_tooltip": null,
            "layout": "IPY_MODEL_d6ae63cad6bb46ddaf29998635661cd9",
            "placeholder": "​",
            "style": "IPY_MODEL_221cfa67ed11463797cb18f9559bbd35",
            "value": "100%"
          }
        },
        "05be7552ff8741d9a539b6f8b1ccbd5c": {
          "model_module": "@jupyter-widgets/controls",
          "model_name": "FloatProgressModel",
          "model_module_version": "1.5.0",
          "state": {
            "_dom_classes": [],
            "_model_module": "@jupyter-widgets/controls",
            "_model_module_version": "1.5.0",
            "_model_name": "FloatProgressModel",
            "_view_count": null,
            "_view_module": "@jupyter-widgets/controls",
            "_view_module_version": "1.5.0",
            "_view_name": "ProgressView",
            "bar_style": "success",
            "description": "",
            "description_tooltip": null,
            "layout": "IPY_MODEL_81d29c32d9d94150935f78685a71970b",
            "max": 9912422,
            "min": 0,
            "orientation": "horizontal",
            "style": "IPY_MODEL_7a0cac6e1e964d25b2c63c1d9774e793",
            "value": 9912422
          }
        },
        "429f088c754e4e888399f2faf85eff29": {
          "model_module": "@jupyter-widgets/controls",
          "model_name": "HTMLModel",
          "model_module_version": "1.5.0",
          "state": {
            "_dom_classes": [],
            "_model_module": "@jupyter-widgets/controls",
            "_model_module_version": "1.5.0",
            "_model_name": "HTMLModel",
            "_view_count": null,
            "_view_module": "@jupyter-widgets/controls",
            "_view_module_version": "1.5.0",
            "_view_name": "HTMLView",
            "description": "",
            "description_tooltip": null,
            "layout": "IPY_MODEL_9669a4e5cedb4804b9f8c4326c6a7dfa",
            "placeholder": "​",
            "style": "IPY_MODEL_02f113d6717c495fa1ed79814f5929aa",
            "value": " 9912422/9912422 [00:00&lt;00:00, 54315419.99it/s]"
          }
        },
        "2bef7d44d737422fae4f04ca82303ffb": {
          "model_module": "@jupyter-widgets/base",
          "model_name": "LayoutModel",
          "model_module_version": "1.2.0",
          "state": {
            "_model_module": "@jupyter-widgets/base",
            "_model_module_version": "1.2.0",
            "_model_name": "LayoutModel",
            "_view_count": null,
            "_view_module": "@jupyter-widgets/base",
            "_view_module_version": "1.2.0",
            "_view_name": "LayoutView",
            "align_content": null,
            "align_items": null,
            "align_self": null,
            "border": null,
            "bottom": null,
            "display": null,
            "flex": null,
            "flex_flow": null,
            "grid_area": null,
            "grid_auto_columns": null,
            "grid_auto_flow": null,
            "grid_auto_rows": null,
            "grid_column": null,
            "grid_gap": null,
            "grid_row": null,
            "grid_template_areas": null,
            "grid_template_columns": null,
            "grid_template_rows": null,
            "height": null,
            "justify_content": null,
            "justify_items": null,
            "left": null,
            "margin": null,
            "max_height": null,
            "max_width": null,
            "min_height": null,
            "min_width": null,
            "object_fit": null,
            "object_position": null,
            "order": null,
            "overflow": null,
            "overflow_x": null,
            "overflow_y": null,
            "padding": null,
            "right": null,
            "top": null,
            "visibility": null,
            "width": null
          }
        },
        "d6ae63cad6bb46ddaf29998635661cd9": {
          "model_module": "@jupyter-widgets/base",
          "model_name": "LayoutModel",
          "model_module_version": "1.2.0",
          "state": {
            "_model_module": "@jupyter-widgets/base",
            "_model_module_version": "1.2.0",
            "_model_name": "LayoutModel",
            "_view_count": null,
            "_view_module": "@jupyter-widgets/base",
            "_view_module_version": "1.2.0",
            "_view_name": "LayoutView",
            "align_content": null,
            "align_items": null,
            "align_self": null,
            "border": null,
            "bottom": null,
            "display": null,
            "flex": null,
            "flex_flow": null,
            "grid_area": null,
            "grid_auto_columns": null,
            "grid_auto_flow": null,
            "grid_auto_rows": null,
            "grid_column": null,
            "grid_gap": null,
            "grid_row": null,
            "grid_template_areas": null,
            "grid_template_columns": null,
            "grid_template_rows": null,
            "height": null,
            "justify_content": null,
            "justify_items": null,
            "left": null,
            "margin": null,
            "max_height": null,
            "max_width": null,
            "min_height": null,
            "min_width": null,
            "object_fit": null,
            "object_position": null,
            "order": null,
            "overflow": null,
            "overflow_x": null,
            "overflow_y": null,
            "padding": null,
            "right": null,
            "top": null,
            "visibility": null,
            "width": null
          }
        },
        "221cfa67ed11463797cb18f9559bbd35": {
          "model_module": "@jupyter-widgets/controls",
          "model_name": "DescriptionStyleModel",
          "model_module_version": "1.5.0",
          "state": {
            "_model_module": "@jupyter-widgets/controls",
            "_model_module_version": "1.5.0",
            "_model_name": "DescriptionStyleModel",
            "_view_count": null,
            "_view_module": "@jupyter-widgets/base",
            "_view_module_version": "1.2.0",
            "_view_name": "StyleView",
            "description_width": ""
          }
        },
        "81d29c32d9d94150935f78685a71970b": {
          "model_module": "@jupyter-widgets/base",
          "model_name": "LayoutModel",
          "model_module_version": "1.2.0",
          "state": {
            "_model_module": "@jupyter-widgets/base",
            "_model_module_version": "1.2.0",
            "_model_name": "LayoutModel",
            "_view_count": null,
            "_view_module": "@jupyter-widgets/base",
            "_view_module_version": "1.2.0",
            "_view_name": "LayoutView",
            "align_content": null,
            "align_items": null,
            "align_self": null,
            "border": null,
            "bottom": null,
            "display": null,
            "flex": null,
            "flex_flow": null,
            "grid_area": null,
            "grid_auto_columns": null,
            "grid_auto_flow": null,
            "grid_auto_rows": null,
            "grid_column": null,
            "grid_gap": null,
            "grid_row": null,
            "grid_template_areas": null,
            "grid_template_columns": null,
            "grid_template_rows": null,
            "height": null,
            "justify_content": null,
            "justify_items": null,
            "left": null,
            "margin": null,
            "max_height": null,
            "max_width": null,
            "min_height": null,
            "min_width": null,
            "object_fit": null,
            "object_position": null,
            "order": null,
            "overflow": null,
            "overflow_x": null,
            "overflow_y": null,
            "padding": null,
            "right": null,
            "top": null,
            "visibility": null,
            "width": null
          }
        },
        "7a0cac6e1e964d25b2c63c1d9774e793": {
          "model_module": "@jupyter-widgets/controls",
          "model_name": "ProgressStyleModel",
          "model_module_version": "1.5.0",
          "state": {
            "_model_module": "@jupyter-widgets/controls",
            "_model_module_version": "1.5.0",
            "_model_name": "ProgressStyleModel",
            "_view_count": null,
            "_view_module": "@jupyter-widgets/base",
            "_view_module_version": "1.2.0",
            "_view_name": "StyleView",
            "bar_color": null,
            "description_width": ""
          }
        },
        "9669a4e5cedb4804b9f8c4326c6a7dfa": {
          "model_module": "@jupyter-widgets/base",
          "model_name": "LayoutModel",
          "model_module_version": "1.2.0",
          "state": {
            "_model_module": "@jupyter-widgets/base",
            "_model_module_version": "1.2.0",
            "_model_name": "LayoutModel",
            "_view_count": null,
            "_view_module": "@jupyter-widgets/base",
            "_view_module_version": "1.2.0",
            "_view_name": "LayoutView",
            "align_content": null,
            "align_items": null,
            "align_self": null,
            "border": null,
            "bottom": null,
            "display": null,
            "flex": null,
            "flex_flow": null,
            "grid_area": null,
            "grid_auto_columns": null,
            "grid_auto_flow": null,
            "grid_auto_rows": null,
            "grid_column": null,
            "grid_gap": null,
            "grid_row": null,
            "grid_template_areas": null,
            "grid_template_columns": null,
            "grid_template_rows": null,
            "height": null,
            "justify_content": null,
            "justify_items": null,
            "left": null,
            "margin": null,
            "max_height": null,
            "max_width": null,
            "min_height": null,
            "min_width": null,
            "object_fit": null,
            "object_position": null,
            "order": null,
            "overflow": null,
            "overflow_x": null,
            "overflow_y": null,
            "padding": null,
            "right": null,
            "top": null,
            "visibility": null,
            "width": null
          }
        },
        "02f113d6717c495fa1ed79814f5929aa": {
          "model_module": "@jupyter-widgets/controls",
          "model_name": "DescriptionStyleModel",
          "model_module_version": "1.5.0",
          "state": {
            "_model_module": "@jupyter-widgets/controls",
            "_model_module_version": "1.5.0",
            "_model_name": "DescriptionStyleModel",
            "_view_count": null,
            "_view_module": "@jupyter-widgets/base",
            "_view_module_version": "1.2.0",
            "_view_name": "StyleView",
            "description_width": ""
          }
        },
        "9a5fca7a741548beac20d9d3f0b8af04": {
          "model_module": "@jupyter-widgets/controls",
          "model_name": "HBoxModel",
          "model_module_version": "1.5.0",
          "state": {
            "_dom_classes": [],
            "_model_module": "@jupyter-widgets/controls",
            "_model_module_version": "1.5.0",
            "_model_name": "HBoxModel",
            "_view_count": null,
            "_view_module": "@jupyter-widgets/controls",
            "_view_module_version": "1.5.0",
            "_view_name": "HBoxView",
            "box_style": "",
            "children": [
              "IPY_MODEL_1dfebce8260649748bead4b5ace96e67",
              "IPY_MODEL_45dac58173b04929973cc66c8dc723de",
              "IPY_MODEL_2999295900a24e66af1530243769bde1"
            ],
            "layout": "IPY_MODEL_efe27565a8b944c5a4535d4047a4de7c"
          }
        },
        "1dfebce8260649748bead4b5ace96e67": {
          "model_module": "@jupyter-widgets/controls",
          "model_name": "HTMLModel",
          "model_module_version": "1.5.0",
          "state": {
            "_dom_classes": [],
            "_model_module": "@jupyter-widgets/controls",
            "_model_module_version": "1.5.0",
            "_model_name": "HTMLModel",
            "_view_count": null,
            "_view_module": "@jupyter-widgets/controls",
            "_view_module_version": "1.5.0",
            "_view_name": "HTMLView",
            "description": "",
            "description_tooltip": null,
            "layout": "IPY_MODEL_edf2016e69414127a5a085380dad78f4",
            "placeholder": "​",
            "style": "IPY_MODEL_ae0f25384ccd4fa3881c706db5919205",
            "value": "100%"
          }
        },
        "45dac58173b04929973cc66c8dc723de": {
          "model_module": "@jupyter-widgets/controls",
          "model_name": "FloatProgressModel",
          "model_module_version": "1.5.0",
          "state": {
            "_dom_classes": [],
            "_model_module": "@jupyter-widgets/controls",
            "_model_module_version": "1.5.0",
            "_model_name": "FloatProgressModel",
            "_view_count": null,
            "_view_module": "@jupyter-widgets/controls",
            "_view_module_version": "1.5.0",
            "_view_name": "ProgressView",
            "bar_style": "success",
            "description": "",
            "description_tooltip": null,
            "layout": "IPY_MODEL_e57ab9cac44b499c92c9bd62ecb089ff",
            "max": 28881,
            "min": 0,
            "orientation": "horizontal",
            "style": "IPY_MODEL_2b2b37444b024da893497dfef6809e9f",
            "value": 28881
          }
        },
        "2999295900a24e66af1530243769bde1": {
          "model_module": "@jupyter-widgets/controls",
          "model_name": "HTMLModel",
          "model_module_version": "1.5.0",
          "state": {
            "_dom_classes": [],
            "_model_module": "@jupyter-widgets/controls",
            "_model_module_version": "1.5.0",
            "_model_name": "HTMLModel",
            "_view_count": null,
            "_view_module": "@jupyter-widgets/controls",
            "_view_module_version": "1.5.0",
            "_view_name": "HTMLView",
            "description": "",
            "description_tooltip": null,
            "layout": "IPY_MODEL_0bd5cab7557f41239489b32097707bb5",
            "placeholder": "​",
            "style": "IPY_MODEL_1f8f4579c7aa44bb94e42b5096123a9c",
            "value": " 28881/28881 [00:00&lt;00:00, 2134399.23it/s]"
          }
        },
        "efe27565a8b944c5a4535d4047a4de7c": {
          "model_module": "@jupyter-widgets/base",
          "model_name": "LayoutModel",
          "model_module_version": "1.2.0",
          "state": {
            "_model_module": "@jupyter-widgets/base",
            "_model_module_version": "1.2.0",
            "_model_name": "LayoutModel",
            "_view_count": null,
            "_view_module": "@jupyter-widgets/base",
            "_view_module_version": "1.2.0",
            "_view_name": "LayoutView",
            "align_content": null,
            "align_items": null,
            "align_self": null,
            "border": null,
            "bottom": null,
            "display": null,
            "flex": null,
            "flex_flow": null,
            "grid_area": null,
            "grid_auto_columns": null,
            "grid_auto_flow": null,
            "grid_auto_rows": null,
            "grid_column": null,
            "grid_gap": null,
            "grid_row": null,
            "grid_template_areas": null,
            "grid_template_columns": null,
            "grid_template_rows": null,
            "height": null,
            "justify_content": null,
            "justify_items": null,
            "left": null,
            "margin": null,
            "max_height": null,
            "max_width": null,
            "min_height": null,
            "min_width": null,
            "object_fit": null,
            "object_position": null,
            "order": null,
            "overflow": null,
            "overflow_x": null,
            "overflow_y": null,
            "padding": null,
            "right": null,
            "top": null,
            "visibility": null,
            "width": null
          }
        },
        "edf2016e69414127a5a085380dad78f4": {
          "model_module": "@jupyter-widgets/base",
          "model_name": "LayoutModel",
          "model_module_version": "1.2.0",
          "state": {
            "_model_module": "@jupyter-widgets/base",
            "_model_module_version": "1.2.0",
            "_model_name": "LayoutModel",
            "_view_count": null,
            "_view_module": "@jupyter-widgets/base",
            "_view_module_version": "1.2.0",
            "_view_name": "LayoutView",
            "align_content": null,
            "align_items": null,
            "align_self": null,
            "border": null,
            "bottom": null,
            "display": null,
            "flex": null,
            "flex_flow": null,
            "grid_area": null,
            "grid_auto_columns": null,
            "grid_auto_flow": null,
            "grid_auto_rows": null,
            "grid_column": null,
            "grid_gap": null,
            "grid_row": null,
            "grid_template_areas": null,
            "grid_template_columns": null,
            "grid_template_rows": null,
            "height": null,
            "justify_content": null,
            "justify_items": null,
            "left": null,
            "margin": null,
            "max_height": null,
            "max_width": null,
            "min_height": null,
            "min_width": null,
            "object_fit": null,
            "object_position": null,
            "order": null,
            "overflow": null,
            "overflow_x": null,
            "overflow_y": null,
            "padding": null,
            "right": null,
            "top": null,
            "visibility": null,
            "width": null
          }
        },
        "ae0f25384ccd4fa3881c706db5919205": {
          "model_module": "@jupyter-widgets/controls",
          "model_name": "DescriptionStyleModel",
          "model_module_version": "1.5.0",
          "state": {
            "_model_module": "@jupyter-widgets/controls",
            "_model_module_version": "1.5.0",
            "_model_name": "DescriptionStyleModel",
            "_view_count": null,
            "_view_module": "@jupyter-widgets/base",
            "_view_module_version": "1.2.0",
            "_view_name": "StyleView",
            "description_width": ""
          }
        },
        "e57ab9cac44b499c92c9bd62ecb089ff": {
          "model_module": "@jupyter-widgets/base",
          "model_name": "LayoutModel",
          "model_module_version": "1.2.0",
          "state": {
            "_model_module": "@jupyter-widgets/base",
            "_model_module_version": "1.2.0",
            "_model_name": "LayoutModel",
            "_view_count": null,
            "_view_module": "@jupyter-widgets/base",
            "_view_module_version": "1.2.0",
            "_view_name": "LayoutView",
            "align_content": null,
            "align_items": null,
            "align_self": null,
            "border": null,
            "bottom": null,
            "display": null,
            "flex": null,
            "flex_flow": null,
            "grid_area": null,
            "grid_auto_columns": null,
            "grid_auto_flow": null,
            "grid_auto_rows": null,
            "grid_column": null,
            "grid_gap": null,
            "grid_row": null,
            "grid_template_areas": null,
            "grid_template_columns": null,
            "grid_template_rows": null,
            "height": null,
            "justify_content": null,
            "justify_items": null,
            "left": null,
            "margin": null,
            "max_height": null,
            "max_width": null,
            "min_height": null,
            "min_width": null,
            "object_fit": null,
            "object_position": null,
            "order": null,
            "overflow": null,
            "overflow_x": null,
            "overflow_y": null,
            "padding": null,
            "right": null,
            "top": null,
            "visibility": null,
            "width": null
          }
        },
        "2b2b37444b024da893497dfef6809e9f": {
          "model_module": "@jupyter-widgets/controls",
          "model_name": "ProgressStyleModel",
          "model_module_version": "1.5.0",
          "state": {
            "_model_module": "@jupyter-widgets/controls",
            "_model_module_version": "1.5.0",
            "_model_name": "ProgressStyleModel",
            "_view_count": null,
            "_view_module": "@jupyter-widgets/base",
            "_view_module_version": "1.2.0",
            "_view_name": "StyleView",
            "bar_color": null,
            "description_width": ""
          }
        },
        "0bd5cab7557f41239489b32097707bb5": {
          "model_module": "@jupyter-widgets/base",
          "model_name": "LayoutModel",
          "model_module_version": "1.2.0",
          "state": {
            "_model_module": "@jupyter-widgets/base",
            "_model_module_version": "1.2.0",
            "_model_name": "LayoutModel",
            "_view_count": null,
            "_view_module": "@jupyter-widgets/base",
            "_view_module_version": "1.2.0",
            "_view_name": "LayoutView",
            "align_content": null,
            "align_items": null,
            "align_self": null,
            "border": null,
            "bottom": null,
            "display": null,
            "flex": null,
            "flex_flow": null,
            "grid_area": null,
            "grid_auto_columns": null,
            "grid_auto_flow": null,
            "grid_auto_rows": null,
            "grid_column": null,
            "grid_gap": null,
            "grid_row": null,
            "grid_template_areas": null,
            "grid_template_columns": null,
            "grid_template_rows": null,
            "height": null,
            "justify_content": null,
            "justify_items": null,
            "left": null,
            "margin": null,
            "max_height": null,
            "max_width": null,
            "min_height": null,
            "min_width": null,
            "object_fit": null,
            "object_position": null,
            "order": null,
            "overflow": null,
            "overflow_x": null,
            "overflow_y": null,
            "padding": null,
            "right": null,
            "top": null,
            "visibility": null,
            "width": null
          }
        },
        "1f8f4579c7aa44bb94e42b5096123a9c": {
          "model_module": "@jupyter-widgets/controls",
          "model_name": "DescriptionStyleModel",
          "model_module_version": "1.5.0",
          "state": {
            "_model_module": "@jupyter-widgets/controls",
            "_model_module_version": "1.5.0",
            "_model_name": "DescriptionStyleModel",
            "_view_count": null,
            "_view_module": "@jupyter-widgets/base",
            "_view_module_version": "1.2.0",
            "_view_name": "StyleView",
            "description_width": ""
          }
        },
        "cf902ffd896246ebbd3b9d263ff2ced5": {
          "model_module": "@jupyter-widgets/controls",
          "model_name": "HBoxModel",
          "model_module_version": "1.5.0",
          "state": {
            "_dom_classes": [],
            "_model_module": "@jupyter-widgets/controls",
            "_model_module_version": "1.5.0",
            "_model_name": "HBoxModel",
            "_view_count": null,
            "_view_module": "@jupyter-widgets/controls",
            "_view_module_version": "1.5.0",
            "_view_name": "HBoxView",
            "box_style": "",
            "children": [
              "IPY_MODEL_9f2a14a2b0ad45cba44aef8cab7f8845",
              "IPY_MODEL_84eb3c5e882e4ef895128a11860768b7",
              "IPY_MODEL_20fda89d7fff40d3854456f399345fad"
            ],
            "layout": "IPY_MODEL_12a8c273b62d496dbd46a79c539ea43e"
          }
        },
        "9f2a14a2b0ad45cba44aef8cab7f8845": {
          "model_module": "@jupyter-widgets/controls",
          "model_name": "HTMLModel",
          "model_module_version": "1.5.0",
          "state": {
            "_dom_classes": [],
            "_model_module": "@jupyter-widgets/controls",
            "_model_module_version": "1.5.0",
            "_model_name": "HTMLModel",
            "_view_count": null,
            "_view_module": "@jupyter-widgets/controls",
            "_view_module_version": "1.5.0",
            "_view_name": "HTMLView",
            "description": "",
            "description_tooltip": null,
            "layout": "IPY_MODEL_82944c6b1c8442d9a016c6f4c398bd51",
            "placeholder": "​",
            "style": "IPY_MODEL_cff4d14fa01245b7bac7e569df28a611",
            "value": "100%"
          }
        },
        "84eb3c5e882e4ef895128a11860768b7": {
          "model_module": "@jupyter-widgets/controls",
          "model_name": "FloatProgressModel",
          "model_module_version": "1.5.0",
          "state": {
            "_dom_classes": [],
            "_model_module": "@jupyter-widgets/controls",
            "_model_module_version": "1.5.0",
            "_model_name": "FloatProgressModel",
            "_view_count": null,
            "_view_module": "@jupyter-widgets/controls",
            "_view_module_version": "1.5.0",
            "_view_name": "ProgressView",
            "bar_style": "success",
            "description": "",
            "description_tooltip": null,
            "layout": "IPY_MODEL_7a7ea782e5ac4481b5a67c75718f8ee9",
            "max": 1648877,
            "min": 0,
            "orientation": "horizontal",
            "style": "IPY_MODEL_717417688e1b44bf8870d20bfc47adf5",
            "value": 1648877
          }
        },
        "20fda89d7fff40d3854456f399345fad": {
          "model_module": "@jupyter-widgets/controls",
          "model_name": "HTMLModel",
          "model_module_version": "1.5.0",
          "state": {
            "_dom_classes": [],
            "_model_module": "@jupyter-widgets/controls",
            "_model_module_version": "1.5.0",
            "_model_name": "HTMLModel",
            "_view_count": null,
            "_view_module": "@jupyter-widgets/controls",
            "_view_module_version": "1.5.0",
            "_view_name": "HTMLView",
            "description": "",
            "description_tooltip": null,
            "layout": "IPY_MODEL_941afb9a772e4eb0b359005ab30d2105",
            "placeholder": "​",
            "style": "IPY_MODEL_de8962f867934d079511e3584a7457ef",
            "value": " 1648877/1648877 [00:00&lt;00:00, 22414312.83it/s]"
          }
        },
        "12a8c273b62d496dbd46a79c539ea43e": {
          "model_module": "@jupyter-widgets/base",
          "model_name": "LayoutModel",
          "model_module_version": "1.2.0",
          "state": {
            "_model_module": "@jupyter-widgets/base",
            "_model_module_version": "1.2.0",
            "_model_name": "LayoutModel",
            "_view_count": null,
            "_view_module": "@jupyter-widgets/base",
            "_view_module_version": "1.2.0",
            "_view_name": "LayoutView",
            "align_content": null,
            "align_items": null,
            "align_self": null,
            "border": null,
            "bottom": null,
            "display": null,
            "flex": null,
            "flex_flow": null,
            "grid_area": null,
            "grid_auto_columns": null,
            "grid_auto_flow": null,
            "grid_auto_rows": null,
            "grid_column": null,
            "grid_gap": null,
            "grid_row": null,
            "grid_template_areas": null,
            "grid_template_columns": null,
            "grid_template_rows": null,
            "height": null,
            "justify_content": null,
            "justify_items": null,
            "left": null,
            "margin": null,
            "max_height": null,
            "max_width": null,
            "min_height": null,
            "min_width": null,
            "object_fit": null,
            "object_position": null,
            "order": null,
            "overflow": null,
            "overflow_x": null,
            "overflow_y": null,
            "padding": null,
            "right": null,
            "top": null,
            "visibility": null,
            "width": null
          }
        },
        "82944c6b1c8442d9a016c6f4c398bd51": {
          "model_module": "@jupyter-widgets/base",
          "model_name": "LayoutModel",
          "model_module_version": "1.2.0",
          "state": {
            "_model_module": "@jupyter-widgets/base",
            "_model_module_version": "1.2.0",
            "_model_name": "LayoutModel",
            "_view_count": null,
            "_view_module": "@jupyter-widgets/base",
            "_view_module_version": "1.2.0",
            "_view_name": "LayoutView",
            "align_content": null,
            "align_items": null,
            "align_self": null,
            "border": null,
            "bottom": null,
            "display": null,
            "flex": null,
            "flex_flow": null,
            "grid_area": null,
            "grid_auto_columns": null,
            "grid_auto_flow": null,
            "grid_auto_rows": null,
            "grid_column": null,
            "grid_gap": null,
            "grid_row": null,
            "grid_template_areas": null,
            "grid_template_columns": null,
            "grid_template_rows": null,
            "height": null,
            "justify_content": null,
            "justify_items": null,
            "left": null,
            "margin": null,
            "max_height": null,
            "max_width": null,
            "min_height": null,
            "min_width": null,
            "object_fit": null,
            "object_position": null,
            "order": null,
            "overflow": null,
            "overflow_x": null,
            "overflow_y": null,
            "padding": null,
            "right": null,
            "top": null,
            "visibility": null,
            "width": null
          }
        },
        "cff4d14fa01245b7bac7e569df28a611": {
          "model_module": "@jupyter-widgets/controls",
          "model_name": "DescriptionStyleModel",
          "model_module_version": "1.5.0",
          "state": {
            "_model_module": "@jupyter-widgets/controls",
            "_model_module_version": "1.5.0",
            "_model_name": "DescriptionStyleModel",
            "_view_count": null,
            "_view_module": "@jupyter-widgets/base",
            "_view_module_version": "1.2.0",
            "_view_name": "StyleView",
            "description_width": ""
          }
        },
        "7a7ea782e5ac4481b5a67c75718f8ee9": {
          "model_module": "@jupyter-widgets/base",
          "model_name": "LayoutModel",
          "model_module_version": "1.2.0",
          "state": {
            "_model_module": "@jupyter-widgets/base",
            "_model_module_version": "1.2.0",
            "_model_name": "LayoutModel",
            "_view_count": null,
            "_view_module": "@jupyter-widgets/base",
            "_view_module_version": "1.2.0",
            "_view_name": "LayoutView",
            "align_content": null,
            "align_items": null,
            "align_self": null,
            "border": null,
            "bottom": null,
            "display": null,
            "flex": null,
            "flex_flow": null,
            "grid_area": null,
            "grid_auto_columns": null,
            "grid_auto_flow": null,
            "grid_auto_rows": null,
            "grid_column": null,
            "grid_gap": null,
            "grid_row": null,
            "grid_template_areas": null,
            "grid_template_columns": null,
            "grid_template_rows": null,
            "height": null,
            "justify_content": null,
            "justify_items": null,
            "left": null,
            "margin": null,
            "max_height": null,
            "max_width": null,
            "min_height": null,
            "min_width": null,
            "object_fit": null,
            "object_position": null,
            "order": null,
            "overflow": null,
            "overflow_x": null,
            "overflow_y": null,
            "padding": null,
            "right": null,
            "top": null,
            "visibility": null,
            "width": null
          }
        },
        "717417688e1b44bf8870d20bfc47adf5": {
          "model_module": "@jupyter-widgets/controls",
          "model_name": "ProgressStyleModel",
          "model_module_version": "1.5.0",
          "state": {
            "_model_module": "@jupyter-widgets/controls",
            "_model_module_version": "1.5.0",
            "_model_name": "ProgressStyleModel",
            "_view_count": null,
            "_view_module": "@jupyter-widgets/base",
            "_view_module_version": "1.2.0",
            "_view_name": "StyleView",
            "bar_color": null,
            "description_width": ""
          }
        },
        "941afb9a772e4eb0b359005ab30d2105": {
          "model_module": "@jupyter-widgets/base",
          "model_name": "LayoutModel",
          "model_module_version": "1.2.0",
          "state": {
            "_model_module": "@jupyter-widgets/base",
            "_model_module_version": "1.2.0",
            "_model_name": "LayoutModel",
            "_view_count": null,
            "_view_module": "@jupyter-widgets/base",
            "_view_module_version": "1.2.0",
            "_view_name": "LayoutView",
            "align_content": null,
            "align_items": null,
            "align_self": null,
            "border": null,
            "bottom": null,
            "display": null,
            "flex": null,
            "flex_flow": null,
            "grid_area": null,
            "grid_auto_columns": null,
            "grid_auto_flow": null,
            "grid_auto_rows": null,
            "grid_column": null,
            "grid_gap": null,
            "grid_row": null,
            "grid_template_areas": null,
            "grid_template_columns": null,
            "grid_template_rows": null,
            "height": null,
            "justify_content": null,
            "justify_items": null,
            "left": null,
            "margin": null,
            "max_height": null,
            "max_width": null,
            "min_height": null,
            "min_width": null,
            "object_fit": null,
            "object_position": null,
            "order": null,
            "overflow": null,
            "overflow_x": null,
            "overflow_y": null,
            "padding": null,
            "right": null,
            "top": null,
            "visibility": null,
            "width": null
          }
        },
        "de8962f867934d079511e3584a7457ef": {
          "model_module": "@jupyter-widgets/controls",
          "model_name": "DescriptionStyleModel",
          "model_module_version": "1.5.0",
          "state": {
            "_model_module": "@jupyter-widgets/controls",
            "_model_module_version": "1.5.0",
            "_model_name": "DescriptionStyleModel",
            "_view_count": null,
            "_view_module": "@jupyter-widgets/base",
            "_view_module_version": "1.2.0",
            "_view_name": "StyleView",
            "description_width": ""
          }
        },
        "eae0b1cfa3da4ea7867a4eb08725b386": {
          "model_module": "@jupyter-widgets/controls",
          "model_name": "HBoxModel",
          "model_module_version": "1.5.0",
          "state": {
            "_dom_classes": [],
            "_model_module": "@jupyter-widgets/controls",
            "_model_module_version": "1.5.0",
            "_model_name": "HBoxModel",
            "_view_count": null,
            "_view_module": "@jupyter-widgets/controls",
            "_view_module_version": "1.5.0",
            "_view_name": "HBoxView",
            "box_style": "",
            "children": [
              "IPY_MODEL_be18b33375a54985bd3aaa3f909f3c78",
              "IPY_MODEL_5022d14523b24dc2bc9d40571086832b",
              "IPY_MODEL_8dd3d6f5601744d1875308cb29a92587"
            ],
            "layout": "IPY_MODEL_fd4731b3444e4ccea2d5f6579d66ec77"
          }
        },
        "be18b33375a54985bd3aaa3f909f3c78": {
          "model_module": "@jupyter-widgets/controls",
          "model_name": "HTMLModel",
          "model_module_version": "1.5.0",
          "state": {
            "_dom_classes": [],
            "_model_module": "@jupyter-widgets/controls",
            "_model_module_version": "1.5.0",
            "_model_name": "HTMLModel",
            "_view_count": null,
            "_view_module": "@jupyter-widgets/controls",
            "_view_module_version": "1.5.0",
            "_view_name": "HTMLView",
            "description": "",
            "description_tooltip": null,
            "layout": "IPY_MODEL_4561bee783a5407ab5c6ac9addafa4ea",
            "placeholder": "​",
            "style": "IPY_MODEL_2f70440bb2c4455e85b15cd30558fcaf",
            "value": "100%"
          }
        },
        "5022d14523b24dc2bc9d40571086832b": {
          "model_module": "@jupyter-widgets/controls",
          "model_name": "FloatProgressModel",
          "model_module_version": "1.5.0",
          "state": {
            "_dom_classes": [],
            "_model_module": "@jupyter-widgets/controls",
            "_model_module_version": "1.5.0",
            "_model_name": "FloatProgressModel",
            "_view_count": null,
            "_view_module": "@jupyter-widgets/controls",
            "_view_module_version": "1.5.0",
            "_view_name": "ProgressView",
            "bar_style": "success",
            "description": "",
            "description_tooltip": null,
            "layout": "IPY_MODEL_81c0a2ba1fc344ef84044eb09fd8f089",
            "max": 4542,
            "min": 0,
            "orientation": "horizontal",
            "style": "IPY_MODEL_f5568db4e5ea4cfb8414568ffdc74823",
            "value": 4542
          }
        },
        "8dd3d6f5601744d1875308cb29a92587": {
          "model_module": "@jupyter-widgets/controls",
          "model_name": "HTMLModel",
          "model_module_version": "1.5.0",
          "state": {
            "_dom_classes": [],
            "_model_module": "@jupyter-widgets/controls",
            "_model_module_version": "1.5.0",
            "_model_name": "HTMLModel",
            "_view_count": null,
            "_view_module": "@jupyter-widgets/controls",
            "_view_module_version": "1.5.0",
            "_view_name": "HTMLView",
            "description": "",
            "description_tooltip": null,
            "layout": "IPY_MODEL_9cba2285c74e440dbd81923b7c0b1858",
            "placeholder": "​",
            "style": "IPY_MODEL_b5a0fd29f18340f287ba3624375a409e",
            "value": " 4542/4542 [00:00&lt;00:00, 335982.24it/s]"
          }
        },
        "fd4731b3444e4ccea2d5f6579d66ec77": {
          "model_module": "@jupyter-widgets/base",
          "model_name": "LayoutModel",
          "model_module_version": "1.2.0",
          "state": {
            "_model_module": "@jupyter-widgets/base",
            "_model_module_version": "1.2.0",
            "_model_name": "LayoutModel",
            "_view_count": null,
            "_view_module": "@jupyter-widgets/base",
            "_view_module_version": "1.2.0",
            "_view_name": "LayoutView",
            "align_content": null,
            "align_items": null,
            "align_self": null,
            "border": null,
            "bottom": null,
            "display": null,
            "flex": null,
            "flex_flow": null,
            "grid_area": null,
            "grid_auto_columns": null,
            "grid_auto_flow": null,
            "grid_auto_rows": null,
            "grid_column": null,
            "grid_gap": null,
            "grid_row": null,
            "grid_template_areas": null,
            "grid_template_columns": null,
            "grid_template_rows": null,
            "height": null,
            "justify_content": null,
            "justify_items": null,
            "left": null,
            "margin": null,
            "max_height": null,
            "max_width": null,
            "min_height": null,
            "min_width": null,
            "object_fit": null,
            "object_position": null,
            "order": null,
            "overflow": null,
            "overflow_x": null,
            "overflow_y": null,
            "padding": null,
            "right": null,
            "top": null,
            "visibility": null,
            "width": null
          }
        },
        "4561bee783a5407ab5c6ac9addafa4ea": {
          "model_module": "@jupyter-widgets/base",
          "model_name": "LayoutModel",
          "model_module_version": "1.2.0",
          "state": {
            "_model_module": "@jupyter-widgets/base",
            "_model_module_version": "1.2.0",
            "_model_name": "LayoutModel",
            "_view_count": null,
            "_view_module": "@jupyter-widgets/base",
            "_view_module_version": "1.2.0",
            "_view_name": "LayoutView",
            "align_content": null,
            "align_items": null,
            "align_self": null,
            "border": null,
            "bottom": null,
            "display": null,
            "flex": null,
            "flex_flow": null,
            "grid_area": null,
            "grid_auto_columns": null,
            "grid_auto_flow": null,
            "grid_auto_rows": null,
            "grid_column": null,
            "grid_gap": null,
            "grid_row": null,
            "grid_template_areas": null,
            "grid_template_columns": null,
            "grid_template_rows": null,
            "height": null,
            "justify_content": null,
            "justify_items": null,
            "left": null,
            "margin": null,
            "max_height": null,
            "max_width": null,
            "min_height": null,
            "min_width": null,
            "object_fit": null,
            "object_position": null,
            "order": null,
            "overflow": null,
            "overflow_x": null,
            "overflow_y": null,
            "padding": null,
            "right": null,
            "top": null,
            "visibility": null,
            "width": null
          }
        },
        "2f70440bb2c4455e85b15cd30558fcaf": {
          "model_module": "@jupyter-widgets/controls",
          "model_name": "DescriptionStyleModel",
          "model_module_version": "1.5.0",
          "state": {
            "_model_module": "@jupyter-widgets/controls",
            "_model_module_version": "1.5.0",
            "_model_name": "DescriptionStyleModel",
            "_view_count": null,
            "_view_module": "@jupyter-widgets/base",
            "_view_module_version": "1.2.0",
            "_view_name": "StyleView",
            "description_width": ""
          }
        },
        "81c0a2ba1fc344ef84044eb09fd8f089": {
          "model_module": "@jupyter-widgets/base",
          "model_name": "LayoutModel",
          "model_module_version": "1.2.0",
          "state": {
            "_model_module": "@jupyter-widgets/base",
            "_model_module_version": "1.2.0",
            "_model_name": "LayoutModel",
            "_view_count": null,
            "_view_module": "@jupyter-widgets/base",
            "_view_module_version": "1.2.0",
            "_view_name": "LayoutView",
            "align_content": null,
            "align_items": null,
            "align_self": null,
            "border": null,
            "bottom": null,
            "display": null,
            "flex": null,
            "flex_flow": null,
            "grid_area": null,
            "grid_auto_columns": null,
            "grid_auto_flow": null,
            "grid_auto_rows": null,
            "grid_column": null,
            "grid_gap": null,
            "grid_row": null,
            "grid_template_areas": null,
            "grid_template_columns": null,
            "grid_template_rows": null,
            "height": null,
            "justify_content": null,
            "justify_items": null,
            "left": null,
            "margin": null,
            "max_height": null,
            "max_width": null,
            "min_height": null,
            "min_width": null,
            "object_fit": null,
            "object_position": null,
            "order": null,
            "overflow": null,
            "overflow_x": null,
            "overflow_y": null,
            "padding": null,
            "right": null,
            "top": null,
            "visibility": null,
            "width": null
          }
        },
        "f5568db4e5ea4cfb8414568ffdc74823": {
          "model_module": "@jupyter-widgets/controls",
          "model_name": "ProgressStyleModel",
          "model_module_version": "1.5.0",
          "state": {
            "_model_module": "@jupyter-widgets/controls",
            "_model_module_version": "1.5.0",
            "_model_name": "ProgressStyleModel",
            "_view_count": null,
            "_view_module": "@jupyter-widgets/base",
            "_view_module_version": "1.2.0",
            "_view_name": "StyleView",
            "bar_color": null,
            "description_width": ""
          }
        },
        "9cba2285c74e440dbd81923b7c0b1858": {
          "model_module": "@jupyter-widgets/base",
          "model_name": "LayoutModel",
          "model_module_version": "1.2.0",
          "state": {
            "_model_module": "@jupyter-widgets/base",
            "_model_module_version": "1.2.0",
            "_model_name": "LayoutModel",
            "_view_count": null,
            "_view_module": "@jupyter-widgets/base",
            "_view_module_version": "1.2.0",
            "_view_name": "LayoutView",
            "align_content": null,
            "align_items": null,
            "align_self": null,
            "border": null,
            "bottom": null,
            "display": null,
            "flex": null,
            "flex_flow": null,
            "grid_area": null,
            "grid_auto_columns": null,
            "grid_auto_flow": null,
            "grid_auto_rows": null,
            "grid_column": null,
            "grid_gap": null,
            "grid_row": null,
            "grid_template_areas": null,
            "grid_template_columns": null,
            "grid_template_rows": null,
            "height": null,
            "justify_content": null,
            "justify_items": null,
            "left": null,
            "margin": null,
            "max_height": null,
            "max_width": null,
            "min_height": null,
            "min_width": null,
            "object_fit": null,
            "object_position": null,
            "order": null,
            "overflow": null,
            "overflow_x": null,
            "overflow_y": null,
            "padding": null,
            "right": null,
            "top": null,
            "visibility": null,
            "width": null
          }
        },
        "b5a0fd29f18340f287ba3624375a409e": {
          "model_module": "@jupyter-widgets/controls",
          "model_name": "DescriptionStyleModel",
          "model_module_version": "1.5.0",
          "state": {
            "_model_module": "@jupyter-widgets/controls",
            "_model_module_version": "1.5.0",
            "_model_name": "DescriptionStyleModel",
            "_view_count": null,
            "_view_module": "@jupyter-widgets/base",
            "_view_module_version": "1.2.0",
            "_view_name": "StyleView",
            "description_width": ""
          }
        }
      }
    }
  },
  "cells": [
    {
      "cell_type": "markdown",
      "metadata": {
        "id": "view-in-github",
        "colab_type": "text"
      },
      "source": [
        "<a href=\"https://colab.research.google.com/github/NSR9/EVA8/blob/main/pytorch/session2_5_nsr.ipynb\" target=\"_parent\"><img src=\"https://colab.research.google.com/assets/colab-badge.svg\" alt=\"Open In Colab\"/></a>"
      ]
    },
    {
      "cell_type": "code",
      "execution_count": 1,
      "metadata": {
        "id": "Xq7yY5Eb09xF"
      },
      "outputs": [],
      "source": [
        "import torch\n",
        "import torchvision\n",
        "import torchvision.transforms as transforms\n",
        "import torch.nn as nn\n",
        "import torch.nn.functional as F\n",
        "import numpy as np"
      ]
    },
    {
      "cell_type": "markdown",
      "source": [
        "Downloading MNIST Dataset and creating Train set and Test set"
      ],
      "metadata": {
        "id": "lcqSKCtP9TJs"
      }
    },
    {
      "cell_type": "code",
      "source": [
        "train_set = torchvision.datasets.MNIST(\n",
        "    root=\"./data\",\n",
        "    train=True,\n",
        "    download=True,\n",
        "    transform = transforms.Compose([\n",
        "        transforms.ToTensor()\n",
        "    ])\n",
        ")\n",
        "\n",
        "test_set = torchvision.datasets.MNIST(\n",
        "    root=\"./data\",\n",
        "    train=False,\n",
        "    download=True,\n",
        "    transform = transforms.Compose([\n",
        "        transforms.ToTensor()\n",
        "    ])\n",
        ")"
      ],
      "metadata": {
        "id": "MuU__9eu8dEr",
        "colab": {
          "base_uri": "https://localhost:8080/",
          "height": 423,
          "referenced_widgets": [
            "68ea3d91e73d48bdb77e98de7a2d1b77",
            "0693c7d744d14576ac11753ad9d3e6eb",
            "05be7552ff8741d9a539b6f8b1ccbd5c",
            "429f088c754e4e888399f2faf85eff29",
            "2bef7d44d737422fae4f04ca82303ffb",
            "d6ae63cad6bb46ddaf29998635661cd9",
            "221cfa67ed11463797cb18f9559bbd35",
            "81d29c32d9d94150935f78685a71970b",
            "7a0cac6e1e964d25b2c63c1d9774e793",
            "9669a4e5cedb4804b9f8c4326c6a7dfa",
            "02f113d6717c495fa1ed79814f5929aa",
            "9a5fca7a741548beac20d9d3f0b8af04",
            "1dfebce8260649748bead4b5ace96e67",
            "45dac58173b04929973cc66c8dc723de",
            "2999295900a24e66af1530243769bde1",
            "efe27565a8b944c5a4535d4047a4de7c",
            "edf2016e69414127a5a085380dad78f4",
            "ae0f25384ccd4fa3881c706db5919205",
            "e57ab9cac44b499c92c9bd62ecb089ff",
            "2b2b37444b024da893497dfef6809e9f",
            "0bd5cab7557f41239489b32097707bb5",
            "1f8f4579c7aa44bb94e42b5096123a9c",
            "cf902ffd896246ebbd3b9d263ff2ced5",
            "9f2a14a2b0ad45cba44aef8cab7f8845",
            "84eb3c5e882e4ef895128a11860768b7",
            "20fda89d7fff40d3854456f399345fad",
            "12a8c273b62d496dbd46a79c539ea43e",
            "82944c6b1c8442d9a016c6f4c398bd51",
            "cff4d14fa01245b7bac7e569df28a611",
            "7a7ea782e5ac4481b5a67c75718f8ee9",
            "717417688e1b44bf8870d20bfc47adf5",
            "941afb9a772e4eb0b359005ab30d2105",
            "de8962f867934d079511e3584a7457ef",
            "eae0b1cfa3da4ea7867a4eb08725b386",
            "be18b33375a54985bd3aaa3f909f3c78",
            "5022d14523b24dc2bc9d40571086832b",
            "8dd3d6f5601744d1875308cb29a92587",
            "fd4731b3444e4ccea2d5f6579d66ec77",
            "4561bee783a5407ab5c6ac9addafa4ea",
            "2f70440bb2c4455e85b15cd30558fcaf",
            "81c0a2ba1fc344ef84044eb09fd8f089",
            "f5568db4e5ea4cfb8414568ffdc74823",
            "9cba2285c74e440dbd81923b7c0b1858",
            "b5a0fd29f18340f287ba3624375a409e"
          ]
        },
        "outputId": "5d900718-441d-4dec-9285-c8a0eb8b08c5"
      },
      "execution_count": 2,
      "outputs": [
        {
          "output_type": "stream",
          "name": "stdout",
          "text": [
            "Downloading http://yann.lecun.com/exdb/mnist/train-images-idx3-ubyte.gz\n",
            "Downloading http://yann.lecun.com/exdb/mnist/train-images-idx3-ubyte.gz to ./data/MNIST/raw/train-images-idx3-ubyte.gz\n"
          ]
        },
        {
          "output_type": "display_data",
          "data": {
            "text/plain": [
              "  0%|          | 0/9912422 [00:00<?, ?it/s]"
            ],
            "application/vnd.jupyter.widget-view+json": {
              "version_major": 2,
              "version_minor": 0,
              "model_id": "68ea3d91e73d48bdb77e98de7a2d1b77"
            }
          },
          "metadata": {}
        },
        {
          "output_type": "stream",
          "name": "stdout",
          "text": [
            "Extracting ./data/MNIST/raw/train-images-idx3-ubyte.gz to ./data/MNIST/raw\n",
            "\n",
            "Downloading http://yann.lecun.com/exdb/mnist/train-labels-idx1-ubyte.gz\n",
            "Downloading http://yann.lecun.com/exdb/mnist/train-labels-idx1-ubyte.gz to ./data/MNIST/raw/train-labels-idx1-ubyte.gz\n"
          ]
        },
        {
          "output_type": "display_data",
          "data": {
            "text/plain": [
              "  0%|          | 0/28881 [00:00<?, ?it/s]"
            ],
            "application/vnd.jupyter.widget-view+json": {
              "version_major": 2,
              "version_minor": 0,
              "model_id": "9a5fca7a741548beac20d9d3f0b8af04"
            }
          },
          "metadata": {}
        },
        {
          "output_type": "stream",
          "name": "stdout",
          "text": [
            "Extracting ./data/MNIST/raw/train-labels-idx1-ubyte.gz to ./data/MNIST/raw\n",
            "\n",
            "Downloading http://yann.lecun.com/exdb/mnist/t10k-images-idx3-ubyte.gz\n",
            "Downloading http://yann.lecun.com/exdb/mnist/t10k-images-idx3-ubyte.gz to ./data/MNIST/raw/t10k-images-idx3-ubyte.gz\n"
          ]
        },
        {
          "output_type": "display_data",
          "data": {
            "text/plain": [
              "  0%|          | 0/1648877 [00:00<?, ?it/s]"
            ],
            "application/vnd.jupyter.widget-view+json": {
              "version_major": 2,
              "version_minor": 0,
              "model_id": "cf902ffd896246ebbd3b9d263ff2ced5"
            }
          },
          "metadata": {}
        },
        {
          "output_type": "stream",
          "name": "stdout",
          "text": [
            "Extracting ./data/MNIST/raw/t10k-images-idx3-ubyte.gz to ./data/MNIST/raw\n",
            "\n",
            "Downloading http://yann.lecun.com/exdb/mnist/t10k-labels-idx1-ubyte.gz\n",
            "Downloading http://yann.lecun.com/exdb/mnist/t10k-labels-idx1-ubyte.gz to ./data/MNIST/raw/t10k-labels-idx1-ubyte.gz\n"
          ]
        },
        {
          "output_type": "display_data",
          "data": {
            "text/plain": [
              "  0%|          | 0/4542 [00:00<?, ?it/s]"
            ],
            "application/vnd.jupyter.widget-view+json": {
              "version_major": 2,
              "version_minor": 0,
              "model_id": "eae0b1cfa3da4ea7867a4eb08725b386"
            }
          },
          "metadata": {}
        },
        {
          "output_type": "stream",
          "name": "stdout",
          "text": [
            "Extracting ./data/MNIST/raw/t10k-labels-idx1-ubyte.gz to ./data/MNIST/raw\n",
            "\n"
          ]
        }
      ]
    },
    {
      "cell_type": "markdown",
      "source": [
        "#Building a custom dataset class by using MNIST dataset:\n",
        "\n",
        "This custom dataset is composed of:\n",
        "\n",
        "1. MNIST Image\n",
        "2. MNIST Image Label\n",
        "3. One hot encoded vector representing a random number.\n",
        "4. Sum of the label and the random number (2 + 3 from above).\n",
        "\n",
        "##__init__() function:\n",
        "* This class is named as \"MNIST_Fusion\". \n",
        "* This function takes 4 parameters in which one is self and others are train_set, test_set, train variable. \n",
        "* The train variable is used to determine which dataset to load. If train is \"True\" the training dataset is loaded or else if \"False\" the test dataset is loaded.\n",
        "* The core logic of the function is, it takes each image from MNIST train_set   and slices to get 10 fixed pixel values into a tensor. \n",
        "* Then the obtained tensor is converted in to a one hot vector after some transformations. \n",
        "* Along with this even the sum of image label and the random number has been calculated which is termed as sum label. \n",
        "* Hence, the Image, image label, one hot vector of random number and sum are generated as part of __init__() function.\n",
        "\n",
        "## __getitem__() function:\n",
        "This function returns a particular value of the dataset based on the given index. Thus, this function makes the dataset iterable. \n",
        "\n",
        "##__len__():\n",
        "This function returns the length of the dataset.\n"
      ],
      "metadata": {
        "id": "GJ-R_BCEFWvD"
      }
    },
    {
      "cell_type": "code",
      "source": [
        "from torch.utils.data.distributed import Dataset\n",
        "import torch\n",
        "from torchvision.datasets import MNIST\n",
        "\n",
        "class MNIST_Fusion(Dataset):\n",
        "    def __init__(self, train_set, test_set, train):\n",
        "        \n",
        "        if train == True:\n",
        "\n",
        "          # initialising the dataset\n",
        "          self.dataset = []\n",
        "          # Iterating over the train set to get hold of each MNIST image and label\n",
        "          for sample in train_set:\n",
        "            self.image, self.label = sample\n",
        "\n",
        "            # Slicing the image from 10 to 20\n",
        "            self.image_slice = self.image[0][10:20]\n",
        "            # performing argmax over columns to get single maximum values\n",
        "            self.image_slice_max = self.image_slice.argmax(dim=1)\n",
        "            # performing argmax over row to get the maximum value which is considered as random number\n",
        "            self.random_num = self.image_slice_max.argmax(dim=0)\n",
        "            # Generating one hot encoded vector for the above random number\n",
        "            self.r_num_data = F.one_hot(self.random_num, num_classes=10)\n",
        "            # Calcualting the sum of label and the random number and is considered as sum label\n",
        "            self.sum = self.label + self.random_num\n",
        "            # A tuple with all image, image_label, random_number, sum_label is generated\n",
        "            self.data = (self.image, self.label, self.r_num_data, self.sum)\n",
        "            # This tuple is inserted as an element in the list.\n",
        "            self.dataset.append(self.data) \n",
        "          \n",
        "        if train == False:\n",
        "          # initialising the dataset\n",
        "          self.dataset = []\n",
        "          # Iterating over the test set to get hold of each MNIST image and label\n",
        "          for sample in test_set:\n",
        "            self.image, self.label = sample\n",
        "\n",
        "            # Slicing the image from 10 to 20\n",
        "            self.image_slice = self.image[0][10:20]\n",
        "            # performing argmax over columns to get single maximum values\n",
        "            self.image_slice_max = self.image_slice.argmax(dim=1)\n",
        "            # performing argmax over row to get the maximum value which is considered as random number\n",
        "            self.random_num = self.image_slice_max.argmax(dim=0)\n",
        "            # Calcualting the sum of label and the random number and is considered as sum label\n",
        "            self.sum = self.label + self.random_num\n",
        "            # Generating one hot encoded vector for the above random number\n",
        "            self.r_num_data = F.one_hot(self.random_num, num_classes=10)\n",
        "            # A tuple with all image, image_label, random_number, sum_label is generated\n",
        "            self.data = (self.image, self.label, self.r_num_data, self.random_num)\n",
        "            # This tuple is inserted as an element in the list.\n",
        "            self.dataset.append(self.data) \n",
        "\n",
        "    def __getitem__(self, index):\n",
        "          return self.dataset[index]\n",
        "\n",
        "    def __len__(self):\n",
        "          return len(self.dataset) \n",
        "\n"
      ],
      "metadata": {
        "id": "vJAySRI0OrUC"
      },
      "execution_count": 120,
      "outputs": []
    },
    {
      "cell_type": "markdown",
      "source": [
        "Creating training and tesing set for the MNIST_Fusion dataset that I built."
      ],
      "metadata": {
        "id": "SLded_55ORyG"
      }
    },
    {
      "cell_type": "code",
      "source": [
        "mf_train_set = MNIST_Fusion(train_set, test_set, train=True)\n",
        "mf_test_set = MNIST_Fusion(train_set, test_set, train=False)"
      ],
      "metadata": {
        "id": "VAbhel9WQLPH"
      },
      "execution_count": 219,
      "outputs": []
    },
    {
      "cell_type": "markdown",
      "source": [
        "Defining train and test loaders"
      ],
      "metadata": {
        "id": "MwFfcXpROpwX"
      }
    },
    {
      "cell_type": "code",
      "source": [
        "mf_train_loader = torch.utils.data.DataLoader(\n",
        "    mf_train_set,\n",
        "    batch_size=64,\n",
        "    shuffle=True\n",
        ")\n",
        "mf_test_loader = torch.utils.data.DataLoader(\n",
        "    mf_test_set,\n",
        "    batch_size=64,\n",
        "    shuffle=True\n",
        ")"
      ],
      "metadata": {
        "id": "uUdv3SKtDOe7"
      },
      "execution_count": 237,
      "outputs": []
    },
    {
      "cell_type": "markdown",
      "source": [
        "Inspecting the MNIST_Fusion dataset"
      ],
      "metadata": {
        "id": "mJFU83ahO1OT"
      }
    },
    {
      "cell_type": "code",
      "source": [
        "\n",
        "import numpy as np\n",
        "import matplotlib.pyplot as plt\n",
        "images, labels, _, _ = next(iter(mf_train_loader))\n",
        "grid = torchvision.utils.make_grid(images, nrow=10)\n",
        "plt.figure(figsize=(15, 15))\n",
        "plt.imshow(np.transpose(grid, (1,2,0)))\n"
      ],
      "metadata": {
        "colab": {
          "base_uri": "https://localhost:8080/",
          "height": 707
        },
        "id": "Xfp7q-igC0Kr",
        "outputId": "5cd60479-8d02-4402-f57b-7522b92ad486"
      },
      "execution_count": 238,
      "outputs": [
        {
          "output_type": "stream",
          "name": "stdout",
          "text": [
            "60000\n",
            "Labels: tensor([8, 2, 1, 0, 0, 0, 0, 5, 2, 6, 4, 3, 6, 0, 8, 7, 9, 6, 9, 2, 3, 2, 2, 9,\n",
            "        8, 2, 5, 1, 8, 3, 5, 6, 6, 7, 2, 1, 5, 0, 9, 5, 8, 7, 3, 4, 4, 7, 6, 7,\n",
            "        4, 7, 2, 1, 6, 0, 4, 8, 2, 7, 7, 5, 4, 2, 5, 9])\n"
          ]
        },
        {
          "output_type": "display_data",
          "data": {
            "text/plain": [
              "<Figure size 1080x1080 with 1 Axes>"
            ],
            "image/png": "[encoded data removed]"
          },
          "metadata": {
            "needs_background": "light"
          }
        }
      ]
    },
    {
      "cell_type": "markdown",
      "source": [
        "#Network Architecture\n",
        "* Network:\n",
        "  * 7 convolution layers\n",
        "  * 2 fully connected layers\n",
        "  * 2 max pooling layers\n",
        "  * 7th conv layers will give 10 outputs so that concatenation with encoded random tensor will of same dimemsion\n",
        "  * Adjusted padding so that 7th conv layer be give 10 outputs\n",
        "\n",
        "* Concatination of the two inputs:\n",
        "  * The output of the 7th conv layer contains the 10 tensor values of the MNIST image input.\n"
      ],
      "metadata": {
        "id": "HZnEp5RXPCB-"
      }
    },
    {
      "cell_type": "code",
      "source": [
        "class Network(nn.Module):\n",
        "  def __init__(self):\n",
        "    super().__init__() \n",
        "    # 1x28x28\n",
        "    self.conv1 = nn.Conv2d(\n",
        "        in_channels= 1,\n",
        "        out_channels= 32,\n",
        "        kernel_size= 3,\n",
        "        padding=1\n",
        "    ) # 32x28x28\n",
        "\n",
        "    self.conv2 = nn.Conv2d(\n",
        "        in_channels=32, \n",
        "        out_channels=64, \n",
        "        kernel_size=3,\n",
        "        padding=1\n",
        "    )  # 64x28x28\n",
        "\n",
        "    self.max_pool1 = nn.MaxPool2d(2, 2) # 64x14x14\n",
        "                     \n",
        "    self.conv3 = nn.Conv2d(\n",
        "        in_channels= 64, \n",
        "        out_channels= 128, \n",
        "        kernel_size= 3,\n",
        "        padding=1\n",
        "    )  # 128x14x14\n",
        "\n",
        "    self.conv4 = nn.Conv2d(\n",
        "        in_channels= 128, \n",
        "        out_channels= 256, \n",
        "        kernel_size= 3,\n",
        "        padding=1\n",
        "    )    # 256x14x14\n",
        "\n",
        "    self.max_pool2 = nn.MaxPool2d(2, 2)  # 256x7x7\n",
        "    \n",
        "    self.conv5 = nn.Conv2d(\n",
        "        in_channels= 256, \n",
        "        out_channels= 512, \n",
        "        kernel_size= 3\n",
        "    )  # 512x5x5\n",
        "\n",
        "    self.conv6 = nn.Conv2d(\n",
        "        in_channels= 512, \n",
        "        out_channels= 1024, \n",
        "        kernel_size= 3\n",
        "    )  # 1024x3x3\n",
        "\n",
        "    self.conv7 = nn.Conv2d(\n",
        "        in_channels= 1024, \n",
        "        out_channels= 10,\n",
        "        kernel_size= 3\n",
        "    )  # 10x1x1\n",
        "\n",
        "    # out received from above layer is 10x1x1\n",
        "    # send one hot encoded random vector\n",
        "    # so total input features will become 20\n",
        "    self.fc1 = nn.Linear(\n",
        "        in_features= 20,\n",
        "        out_features= 64\n",
        "    )    \n",
        "\n",
        "    self.fc2 = nn.Linear(\n",
        "        in_features= 64,\n",
        "        out_features= 19\n",
        "    )\n",
        "\n",
        "\n",
        "  def forward(self, mnist_image, random_number_vector):\n",
        "\n",
        "    # conv1\n",
        "    image = self.conv1(mnist_image)\n",
        "    image = F.relu(image)\n",
        "    # conv2\n",
        "    image = self.conv2(image)\n",
        "    image = F.relu(image)\n",
        "    # maxpooling 1\n",
        "    image = self.max_pool1(image)\n",
        "    # conv3\n",
        "    image = self.conv3(image)\n",
        "    image = F.relu(image)\n",
        "    # conv4\n",
        "    image = self.conv4(image)\n",
        "    image = F.relu(image)\n",
        "    # maxpooling 2\n",
        "    image = self.max_pool2(image)\n",
        "    # conv5\n",
        "    image = self.conv5(image)\n",
        "    image = F.relu(image)\n",
        "    # conv6\n",
        "    image = self.conv6(image)\n",
        "    image = F.relu(image)\n",
        "    # conv7\n",
        "    image = self.conv7(image)\n",
        "    # Transforming the image tensor into 1 x 10.\n",
        "    image = image.reshape(-1, 10) # 1x10\n",
        "    # Clubbing the image convolution with the random number using torch.cat()\n",
        "    combined_tensor = torch.cat((image,random_number_vector),dim= 1) # 1x20\n",
        "    # fc1\n",
        "    combined_tensor = self.fc1(combined_tensor)\n",
        "    combined_tensor = F.relu(combined_tensor)\n",
        "    # fc2\n",
        "    combined_tensor = self.fc2(combined_tensor)\n",
        "    # returns image predictions, sum_predictions\n",
        "    return F.log_softmax(image), F.log_softmax(combined_tensor)"
      ],
      "metadata": {
        "id": "76eevhHnztR6"
      },
      "execution_count": 239,
      "outputs": []
    },
    {
      "cell_type": "markdown",
      "source": [
        "Instantiating the Network class with network"
      ],
      "metadata": {
        "id": "5QFmrRAaRogw"
      }
    },
    {
      "cell_type": "code",
      "source": [
        " network = Network()"
      ],
      "metadata": {
        "id": "Jg4Ad27lYf4r"
      },
      "execution_count": 240,
      "outputs": []
    },
    {
      "cell_type": "markdown",
      "source": [
        "Checking for GPU and if exists using it"
      ],
      "metadata": {
        "id": "8vWgc8xKRycg"
      }
    },
    {
      "cell_type": "code",
      "source": [
        "# Use cuda if available\n",
        "device = 'cuda' if torch.cuda.is_available() else 'cpu'\n",
        "device"
      ],
      "metadata": {
        "colab": {
          "base_uri": "https://localhost:8080/",
          "height": 35
        },
        "id": "RIekgluRgQ6J",
        "outputId": "41d67a09-ba96-4c67-f1df-bb56bc5d6b80"
      },
      "execution_count": 241,
      "outputs": [
        {
          "output_type": "execute_result",
          "data": {
            "text/plain": [
              "'cuda'"
            ],
            "application/vnd.google.colaboratory.intrinsic+json": {
              "type": "string"
            }
          },
          "metadata": {},
          "execution_count": 241
        }
      ]
    },
    {
      "cell_type": "markdown",
      "source": [
        "Moving the network to GPU"
      ],
      "metadata": {
        "id": "YCub-ZP-S3Et"
      }
    },
    {
      "cell_type": "code",
      "source": [
        "network.to(device)"
      ],
      "metadata": {
        "colab": {
          "base_uri": "https://localhost:8080/"
        },
        "id": "AdBmkKWMgIY8",
        "outputId": "90a24972-07cb-42ac-c9af-9d0b48b2640c"
      },
      "execution_count": 242,
      "outputs": [
        {
          "output_type": "execute_result",
          "data": {
            "text/plain": [
              "Network(\n",
              "  (conv1): Conv2d(1, 32, kernel_size=(3, 3), stride=(1, 1), padding=(1, 1))\n",
              "  (conv2): Conv2d(32, 64, kernel_size=(3, 3), stride=(1, 1), padding=(1, 1))\n",
              "  (max_pool1): MaxPool2d(kernel_size=2, stride=2, padding=0, dilation=1, ceil_mode=False)\n",
              "  (conv3): Conv2d(64, 128, kernel_size=(3, 3), stride=(1, 1), padding=(1, 1))\n",
              "  (conv4): Conv2d(128, 256, kernel_size=(3, 3), stride=(1, 1), padding=(1, 1))\n",
              "  (max_pool2): MaxPool2d(kernel_size=2, stride=2, padding=0, dilation=1, ceil_mode=False)\n",
              "  (conv5): Conv2d(256, 512, kernel_size=(3, 3), stride=(1, 1))\n",
              "  (conv6): Conv2d(512, 1024, kernel_size=(3, 3), stride=(1, 1))\n",
              "  (conv7): Conv2d(1024, 10, kernel_size=(3, 3), stride=(1, 1))\n",
              "  (fc1): Linear(in_features=20, out_features=64, bias=True)\n",
              "  (fc2): Linear(in_features=64, out_features=19, bias=True)\n",
              ")"
            ]
          },
          "metadata": {},
          "execution_count": 242
        }
      ]
    },
    {
      "cell_type": "markdown",
      "source": [
        "Generating train and test loaders"
      ],
      "metadata": {
        "id": "73PRRxvL9dZR"
      }
    },
    {
      "cell_type": "markdown",
      "source": [
        "Function to return correct number of predictions when given predictions and labels"
      ],
      "metadata": {
        "id": "CTKm5AyDTES5"
      }
    },
    {
      "cell_type": "code",
      "source": [
        "def get_correct_preds(preds, labels):\n",
        "  cp = preds.argmax(dim=1).eq(labels).sum().item()\n",
        "  return cp"
      ],
      "metadata": {
        "id": "uccLHwN_cZyI"
      },
      "execution_count": 244,
      "outputs": []
    },
    {
      "cell_type": "markdown",
      "source": [
        "Deining the training and testing loops"
      ],
      "metadata": {
        "id": "n-enc93BTVAY"
      }
    },
    {
      "cell_type": "code",
      "source": [
        "def train(network, num_epochs, train_loader):\n",
        "  optimizer = torch.optim.SGD(network.parameters(), lr=0.01)\n",
        "  \n",
        "  # for number of epochs\n",
        "  for epoch in range(num_epochs):\n",
        "    # for each epoch\n",
        "    total_image_loss = 0\n",
        "    total_sum_loss = 0\n",
        "    correct_sum_preds = 0\n",
        "    correct_image_preds = 0\n",
        "    \n",
        "    # Iterate over the train loader \n",
        "    for i,batch in enumerate(train_loader):\n",
        "      # Extracting images, labels, ohrs, sum_labels from each batch\n",
        "      images, labels, ohrs, sum_labels = batch \n",
        "      # Sending images and random numbers to the network and recieving the outputs.\n",
        "      preds_image, preds_sum = network(images, ohrs)\n",
        "      \n",
        "      # Loss calculation for both image and sum predictions\n",
        "      image_loss = F.cross_entropy(preds_image, labels)\n",
        "      sum_loss = F.cross_entropy(preds_sum, sum_labels)\n",
        "      \n",
        "      # Setting gradients to zero\n",
        "      optimizer.zero_grad()\n",
        "      \n",
        "      # Calculating total loss for image and sum predictions\n",
        "      total_image_loss += image_loss.item()\n",
        "      total_sum_loss += sum_loss.item()\n",
        "\n",
        "      # Calculating correct predictions of image and sum. \n",
        "      correct_image_preds += get_correct_preds(preds_image, labels)\n",
        "      correct_sum_preds += get_correct_preds(preds_sum, sum_labels)\n",
        "      \n",
        "      # Backprop\n",
        "      image_loss.backward(retain_graph=True)\n",
        "      sum_loss.backward()\n",
        "      \n",
        "      # Updating the weights.\n",
        "      optimizer.step()\n",
        "      #print(f\"{i}batch done\")\n",
        "    # Calculating the training and testing accuracy \n",
        "    img_train_acc = (correct_image_preds/60000)*100\n",
        "    sum_train_acc = (correct_sum_preds/60000)*100\n",
        "          \n",
        "\n",
        "    print(\"epoch:\", epoch,\n",
        "            \"Total image Loss:\", total_image_loss ,\n",
        "            \"total_sum_loss:\", total_sum_loss,\n",
        "            \"Correct image predictions:\", correct_image_preds,\n",
        "            \"correct sum predictions:\", correct_sum_preds,\n",
        "            \"Image Training accuracy:\", img_train_acc,\n",
        "            \"sum Training accuracy:\", sum_train_acc\n",
        "            )\n",
        "      \n",
        "\n",
        "\n",
        "      "
      ],
      "metadata": {
        "id": "oLNDSA4e9cRw"
      },
      "execution_count": 246,
      "outputs": []
    },
    {
      "cell_type": "code",
      "source": [
        "network = Network()\n",
        "num_epochs = 10\n",
        "train(network, num_epochs, mf_train_loader)"
      ],
      "metadata": {
        "colab": {
          "base_uri": "https://localhost:8080/",
          "height": 540
        },
        "id": "ErYDmYbb9cI7",
        "outputId": "6987726d-f8b3-4fbb-d5c2-29c19dc08b90"
      },
      "execution_count": 247,
      "outputs": [
        {
          "output_type": "stream",
          "name": "stderr",
          "text": [
            "<ipython-input-239-b81bbd42bc0d>:97: UserWarning: Implicit dimension choice for log_softmax has been deprecated. Change the call to include dim=X as an argument.\n",
            "  return F.log_softmax(image), F.log_softmax(combined_tensor)\n"
          ]
        },
        {
          "output_type": "stream",
          "name": "stdout",
          "text": [
            "epoch: 0 Total image Loss: 1780.301834821701 total_sum_loss: 2549.001699090004 Correct image predictions: 18355 correct sum predictions: 11434 Image Training accuracy: 30.59166666666667 sum Training accuracy: 19.056666666666665\n",
            "epoch: 1 Total image Loss: 225.26900732703507 total_sum_loss: 1692.5029692649841 Correct image predictions: 55505 correct sum predictions: 24948 Image Training accuracy: 92.50833333333334 sum Training accuracy: 41.58\n",
            "epoch: 2 Total image Loss: 111.83052811864763 total_sum_loss: 1439.2949695587158 Correct image predictions: 57814 correct sum predictions: 29323 Image Training accuracy: 96.35666666666667 sum Training accuracy: 48.87166666666667\n",
            "epoch: 3 Total image Loss: 77.31614805862773 total_sum_loss: 1300.0065153241158 Correct image predictions: 58444 correct sum predictions: 32195 Image Training accuracy: 97.40666666666667 sum Training accuracy: 53.65833333333333\n",
            "epoch: 4 Total image Loss: 60.68309888872318 total_sum_loss: 1186.649236381054 Correct image predictions: 58815 correct sum predictions: 34929 Image Training accuracy: 98.02499999999999 sum Training accuracy: 58.214999999999996\n",
            "epoch: 5 Total image Loss: 49.32648231880739 total_sum_loss: 1087.0447179675102 Correct image predictions: 59033 correct sum predictions: 37230 Image Training accuracy: 98.38833333333334 sum Training accuracy: 62.050000000000004\n",
            "epoch: 6 Total image Loss: 41.941470447112806 total_sum_loss: 998.8645296096802 Correct image predictions: 59181 correct sum predictions: 39367 Image Training accuracy: 98.63499999999999 sum Training accuracy: 65.61166666666666\n",
            "epoch: 7 Total image Loss: 35.99311265558936 total_sum_loss: 920.4630075097084 Correct image predictions: 59300 correct sum predictions: 41531 Image Training accuracy: 98.83333333333333 sum Training accuracy: 69.21833333333333\n"
          ]
        },
        {
          "output_type": "error",
          "ename": "KeyboardInterrupt",
          "evalue": "ignored",
          "traceback": [
            "\u001b[0;31m---------------------------------------------------------------------------\u001b[0m",
            "\u001b[0;31mKeyboardInterrupt\u001b[0m                         Traceback (most recent call last)",
            "\u001b[0;32m<ipython-input-247-f4ed6a3b1b5f>\u001b[0m in \u001b[0;36m<module>\u001b[0;34m\u001b[0m\n\u001b[1;32m      1\u001b[0m \u001b[0mnetwork\u001b[0m \u001b[0;34m=\u001b[0m \u001b[0mNetwork\u001b[0m\u001b[0;34m(\u001b[0m\u001b[0;34m)\u001b[0m\u001b[0;34m\u001b[0m\u001b[0;34m\u001b[0m\u001b[0m\n\u001b[1;32m      2\u001b[0m \u001b[0mnum_epochs\u001b[0m \u001b[0;34m=\u001b[0m \u001b[0;36m10\u001b[0m\u001b[0;34m\u001b[0m\u001b[0;34m\u001b[0m\u001b[0m\n\u001b[0;32m----> 3\u001b[0;31m \u001b[0mtrain\u001b[0m\u001b[0;34m(\u001b[0m\u001b[0mnetwork\u001b[0m\u001b[0;34m,\u001b[0m \u001b[0mnum_epochs\u001b[0m\u001b[0;34m,\u001b[0m \u001b[0mmf_train_loader\u001b[0m\u001b[0;34m)\u001b[0m\u001b[0;34m\u001b[0m\u001b[0;34m\u001b[0m\u001b[0m\n\u001b[0m",
            "\u001b[0;32m<ipython-input-246-29a9a21d27d6>\u001b[0m in \u001b[0;36mtrain\u001b[0;34m(network, num_epochs, train_loader)\u001b[0m\n\u001b[1;32m     23\u001b[0m \u001b[0;34m\u001b[0m\u001b[0m\n\u001b[1;32m     24\u001b[0m       \u001b[0mimage_loss\u001b[0m\u001b[0;34m.\u001b[0m\u001b[0mbackward\u001b[0m\u001b[0;34m(\u001b[0m\u001b[0mretain_graph\u001b[0m\u001b[0;34m=\u001b[0m\u001b[0;32mTrue\u001b[0m\u001b[0;34m)\u001b[0m\u001b[0;34m\u001b[0m\u001b[0;34m\u001b[0m\u001b[0m\n\u001b[0;32m---> 25\u001b[0;31m       \u001b[0msum_loss\u001b[0m\u001b[0;34m.\u001b[0m\u001b[0mbackward\u001b[0m\u001b[0;34m(\u001b[0m\u001b[0;34m)\u001b[0m\u001b[0;34m\u001b[0m\u001b[0;34m\u001b[0m\u001b[0m\n\u001b[0m\u001b[1;32m     26\u001b[0m \u001b[0;34m\u001b[0m\u001b[0m\n\u001b[1;32m     27\u001b[0m       \u001b[0moptimizer\u001b[0m\u001b[0;34m.\u001b[0m\u001b[0mstep\u001b[0m\u001b[0;34m(\u001b[0m\u001b[0;34m)\u001b[0m\u001b[0;34m\u001b[0m\u001b[0;34m\u001b[0m\u001b[0m\n",
            "\u001b[0;32m/usr/local/lib/python3.8/dist-packages/torch/_tensor.py\u001b[0m in \u001b[0;36mbackward\u001b[0;34m(self, gradient, retain_graph, create_graph, inputs)\u001b[0m\n\u001b[1;32m    485\u001b[0m                 \u001b[0minputs\u001b[0m\u001b[0;34m=\u001b[0m\u001b[0minputs\u001b[0m\u001b[0;34m,\u001b[0m\u001b[0;34m\u001b[0m\u001b[0;34m\u001b[0m\u001b[0m\n\u001b[1;32m    486\u001b[0m             )\n\u001b[0;32m--> 487\u001b[0;31m         torch.autograd.backward(\n\u001b[0m\u001b[1;32m    488\u001b[0m             \u001b[0mself\u001b[0m\u001b[0;34m,\u001b[0m \u001b[0mgradient\u001b[0m\u001b[0;34m,\u001b[0m \u001b[0mretain_graph\u001b[0m\u001b[0;34m,\u001b[0m \u001b[0mcreate_graph\u001b[0m\u001b[0;34m,\u001b[0m \u001b[0minputs\u001b[0m\u001b[0;34m=\u001b[0m\u001b[0minputs\u001b[0m\u001b[0;34m\u001b[0m\u001b[0;34m\u001b[0m\u001b[0m\n\u001b[1;32m    489\u001b[0m         )\n",
            "\u001b[0;32m/usr/local/lib/python3.8/dist-packages/torch/autograd/__init__.py\u001b[0m in \u001b[0;36mbackward\u001b[0;34m(tensors, grad_tensors, retain_graph, create_graph, grad_variables, inputs)\u001b[0m\n\u001b[1;32m    195\u001b[0m     \u001b[0;31m# some Python versions print out the first line of a multi-line function\u001b[0m\u001b[0;34m\u001b[0m\u001b[0;34m\u001b[0m\u001b[0;34m\u001b[0m\u001b[0m\n\u001b[1;32m    196\u001b[0m     \u001b[0;31m# calls in the traceback and some print out the last line\u001b[0m\u001b[0;34m\u001b[0m\u001b[0;34m\u001b[0m\u001b[0;34m\u001b[0m\u001b[0m\n\u001b[0;32m--> 197\u001b[0;31m     Variable._execution_engine.run_backward(  # Calls into the C++ engine to run the backward pass\n\u001b[0m\u001b[1;32m    198\u001b[0m         \u001b[0mtensors\u001b[0m\u001b[0;34m,\u001b[0m \u001b[0mgrad_tensors_\u001b[0m\u001b[0;34m,\u001b[0m \u001b[0mretain_graph\u001b[0m\u001b[0;34m,\u001b[0m \u001b[0mcreate_graph\u001b[0m\u001b[0;34m,\u001b[0m \u001b[0minputs\u001b[0m\u001b[0;34m,\u001b[0m\u001b[0;34m\u001b[0m\u001b[0;34m\u001b[0m\u001b[0m\n\u001b[1;32m    199\u001b[0m         allow_unreachable=True, accumulate_grad=True)  # Calls into the C++ engine to run the backward pass\n",
            "\u001b[0;31mKeyboardInterrupt\u001b[0m: "
          ]
        }
      ]
    },
    {
      "cell_type": "code",
      "source": [
        "def test(network, test_loader):\n",
        "      correct_image_preds = 0\n",
        "      correct_sum_preds = 0\n",
        "      for batch in test_loader:\n",
        "        # Extracting images, labels, ohrs, sum_labels from each batch\n",
        "        images, labels, ohrs, sum_labels = batch \n",
        "\n",
        "        # Sending images and random numbers to the network and recieving the outputs.\n",
        "        preds_image, preds_sum = network(images, ohrs)\n",
        "\n",
        "        # Calculating correct predictions of image and sum. \n",
        "        correct_image_preds += get_correct_preds(preds_image, labels)\n",
        "        correct_sum_preds += get_correct_preds(preds_sum, sum_labels)\n",
        "\n",
        "      print(\n",
        "           \n",
        "            \"Correct image predictions:\", correct_image_preds,\n",
        "            \"correct sum predictions:\", correct_sum_preds,\n",
        "            \"Image Test accuracy:\", (correct_image_preds/10000)*100 ,\n",
        "            \"sum Test accuracy:\", (correct_sum_preds/10000)*100\n",
        "            )\n"
      ],
      "metadata": {
        "id": "e6ZGduR99cGn"
      },
      "execution_count": 250,
      "outputs": []
    },
    {
      "cell_type": "code",
      "source": [
        "test(network, mf_test_loader)"
      ],
      "metadata": {
        "id": "-ENafHfM9cEL",
        "colab": {
          "base_uri": "https://localhost:8080/"
        },
        "outputId": "9388d7dc-1037-41ed-d799-d133ee4b9d81"
      },
      "execution_count": 251,
      "outputs": [
        {
          "output_type": "stream",
          "name": "stderr",
          "text": [
            "<ipython-input-239-b81bbd42bc0d>:97: UserWarning: Implicit dimension choice for log_softmax has been deprecated. Change the call to include dim=X as an argument.\n",
            "  return F.log_softmax(image), F.log_softmax(combined_tensor)\n"
          ]
        },
        {
          "output_type": "stream",
          "name": "stdout",
          "text": [
            "Correct image predictions: 9852 correct sum predictions: 832 Image Test accuracy: 98.52 sum Test accuracy: 8.32\n"
          ]
        }
      ]
    },
    {
      "cell_type": "code",
      "source": [],
      "metadata": {
        "id": "ryH1_qvo7-gn"
      },
      "execution_count": null,
      "outputs": []
    },
    {
      "cell_type": "code",
      "source": [],
      "metadata": {
        "id": "rAjrnCgX1IuA"
      },
      "execution_count": null,
      "outputs": []
    }
  ]
}