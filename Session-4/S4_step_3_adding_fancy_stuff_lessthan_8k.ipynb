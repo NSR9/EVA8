{
  "nbformat": 4,
  "nbformat_minor": 0,
  "metadata": {
    "colab": {
      "provenance": [],
      "machine_shape": "hm",
      "include_colab_link": true
    },
    "kernelspec": {
      "name": "python3",
      "display_name": "Python 3"
    },
    "accelerator": "GPU",
    "gpuClass": "premium"
  },
  "cells": [
    {
      "cell_type": "markdown",
      "metadata": {
        "id": "view-in-github",
        "colab_type": "text"
      },
      "source": [
        "<a href=\"https://colab.research.google.com/github/NSR9/EVA8/blob/main/Session-4/S4_step_3_adding_fancy_stuff_lessthan_8k.ipynb\" target=\"_parent\"><img src=\"https://colab.research.google.com/assets/colab-badge.svg\" alt=\"Open In Colab\"/></a>"
      ]
    },
    {
      "cell_type": "markdown",
      "source": [
        "## Target: \n",
        "1. To acheive the accuracy of 99.4% with less than 8000 parameters.\n",
        "\n",
        "## Changes Made:\n",
        "1. Reduced the Dropout value to 0.03 from 0.05.\n",
        "2. Reduced the size of the network to 7,760 parameters.\n",
        "\n",
        "## What to expect:\n",
        "1. Training is made slightly easier comapred to previous step but still could observe same trends of training as previous step.\n",
        "2. Probable good test accuracy not more than 99.4% but aroud 99.35%\n",
        "\n",
        "\n",
        "## Results:\n",
        "1. Best Training Accuracy : 98.86% at 15th Epoch\n",
        "2. Best Test Accuracy : 99.42% at 8th Epoch\n",
        "3. Params: 7,760\n",
        "\n",
        "## Analysis:\n",
        "1. The target is acheived in 15 epochs with less than 8000 network parameters.\n",
        "2. The accuracy of 99.35% maintained for the last 5 epochs.\n",
        "3. Acheived test accuracy of 99.42% in 8th epoch but couldnot sustain around it for long, the accuracies were very close to 99.40%.  \n",
        "3. Model is underfitting with low train accuracy and high test accuracy.\n",
        "4. The difference between train and test accuracies is less. "
      ],
      "metadata": {
        "id": "40lI_VfY5TYA"
      }
    },
    {
      "cell_type": "markdown",
      "source": [
        "## CALLING THE GODS!"
      ],
      "metadata": {
        "id": "Xvr-9-k577nI"
      }
    },
    {
      "cell_type": "code",
      "metadata": {
        "id": "0m2JWFliFfKT"
      },
      "source": [
        "from __future__ import print_function\n",
        "import torch\n",
        "import torch.nn as nn\n",
        "import torch.nn.functional as F\n",
        "import torch.optim as optim\n",
        "from torchvision import datasets, transforms"
      ],
      "execution_count": 26,
      "outputs": []
    },
    {
      "cell_type": "markdown",
      "source": [
        "## Model Definition"
      ],
      "metadata": {
        "id": "5WX0L6Ei7_z6"
      }
    },
    {
      "cell_type": "code",
      "source": [
        "from torch.nn.modules.conv import Conv2d\n",
        "from torch.nn.modules.activation import ReLU\n",
        "d = 0.03\n",
        "class Net(nn.Module):\n",
        "    def __init__(self):\n",
        "        super(Net, self).__init__()\n",
        "        \n",
        "        # Input Block \n",
        "        self.inputblock = nn.Sequential(\n",
        "            # Convlayer 1\n",
        "            nn.Conv2d(in_channels=1, out_channels=8, kernel_size=3, padding=1),     # 28x28 >> 28x28 Rf = 3\n",
        "            nn.ReLU(),\n",
        "            nn.BatchNorm2d(8),\n",
        "            nn.Dropout(d)\n",
        "        )\n",
        "\n",
        "        # CONV BLOCK 1 \n",
        "        self.convblock1 = nn.Sequential(\n",
        "            # Convlayer 2\n",
        "            nn.Conv2d(8, 12, 3, padding=1),                                          # 28x28 >> 28x28 Rf = 5\n",
        "            nn.ReLU(),\n",
        "            nn.BatchNorm2d(12),\n",
        "            nn.Dropout(d)  \n",
        "        )\n",
        "\n",
        "        # Transition Block 1\n",
        "        self.transitionblock1 = nn.Sequential(\n",
        "            # Maxpooling layer 1\n",
        "            nn.MaxPool2d(2,2),                                                       # 28x28 >> 14x14 Rf = 6\n",
        "            # 1x1 Convlayer 1\n",
        "            nn.Conv2d(12, 8, 1, padding=0),                                          # 14x14 >> 14x14 Rf = 6\n",
        "            nn.ReLU()                                           \n",
        "        )\n",
        "\n",
        "        # CONV BLOCK 2\n",
        "        self.convblock2 = nn.Sequential(        \n",
        "            # Convlayer 3\n",
        "            nn.Conv2d(8, 10, 3, padding=1),                                          # 14x14 >> 14x14 Rf = 10\n",
        "            nn.ReLU(), \n",
        "            nn.BatchNorm2d(10),   \n",
        "            nn.Dropout(d),  \n",
        "            # Convlayer 4\n",
        "            nn.Conv2d(10, 16, 3, padding=1),                                         # 14x14 >> 14x14 Rf = 14\n",
        "            nn.ReLU(),\n",
        "            nn.BatchNorm2d(16),\n",
        "            nn.Dropout(d)\n",
        "\n",
        "        )\n",
        "\n",
        "        # Transition Block 2\n",
        "        self.transitionblock2 = nn.Sequential(\n",
        "            # Maxpoolinglayer 2\n",
        "            nn.MaxPool2d(2,2),                                                       # 14x14 >> 7x7 Rf = 16\n",
        "            # 1x1 ConvLayer 2\n",
        "            nn.Conv2d(16, 8, 1, padding=0),                                          # 7x7 >> 7x7. Rf = 16\n",
        "            nn.ReLU()\n",
        "\n",
        "        )\n",
        "\n",
        "        # CONV BLOCK 3\n",
        "        self.convblock3 = nn.Sequential(\n",
        "            # Convlayer 5\n",
        "            nn.Conv2d(8, 10, 3, padding=0),                                          # 7x7 >> 5x5 Rf = 24\n",
        "            nn.ReLU(),\n",
        "            nn.BatchNorm2d(10),\n",
        "            nn.Dropout(d),  \n",
        "            # Convlayer 6                   \n",
        "            nn.Conv2d(10, 14, 3, padding=1),                                         # 5x5 >> 5x5 Rf = 32\n",
        "            nn.ReLU(),\n",
        "            nn.BatchNorm2d(14),\n",
        "            nn.Dropout(d), \n",
        "            # Convlayer 7\n",
        "            nn.Conv2d(14, 16, 3, padding=0),                                         # 5x5 >> 3x3 Rf = 40\n",
        "            nn.ReLU(),\n",
        "            nn.BatchNorm2d(16),\n",
        "            nn.Dropout(d), \n",
        "            # GAP Layer                                          \n",
        "            nn.AvgPool2d(3),     \n",
        "            # Output layer                                                           # 3x3 >> 1x1 Rf = 48\n",
        "            nn.Conv2d(16, 10, 1, padding=0)                                          # 1x1 >> 1x1 Rf = 48\n",
        "            \n",
        "        )\n",
        "        \n",
        "\n",
        "\n",
        "        \n",
        "\n",
        "    def forward(self, x):\n",
        "        x = self.inputblock(x)\n",
        "        x = self.convblock1(x)\n",
        "        x = self.transitionblock1(x)\n",
        "        x = self.convblock2(x)\n",
        "        x = self.transitionblock2(x)\n",
        "        x = self.convblock3(x)\n",
        "        x = x.view(-1, 10)\n",
        "        return F.log_softmax(x)"
      ],
      "metadata": {
        "id": "ym4AepTLsUvp"
      },
      "execution_count": 44,
      "outputs": []
    },
    {
      "cell_type": "markdown",
      "source": [
        "## Model Summary "
      ],
      "metadata": {
        "id": "ZeaK3wao5L97"
      }
    },
    {
      "cell_type": "code",
      "metadata": {
        "id": "xdydjYTZFyi3",
        "colab": {
          "base_uri": "https://localhost:8080/"
        },
        "outputId": "6b2fe5d6-363f-4a84-86c2-f3e000f23993"
      },
      "source": [
        "!pip install torchsummary\n",
        "from torchsummary import summary\n",
        "use_cuda = torch.cuda.is_available()\n",
        "device = torch.device(\"cuda\" if use_cuda else \"cpu\")\n",
        "model = Net().to(device)\n",
        "summary(model, input_size=(1, 28, 28))"
      ],
      "execution_count": 45,
      "outputs": [
        {
          "output_type": "stream",
          "name": "stdout",
          "text": [
            "Looking in indexes: https://pypi.org/simple, https://us-python.pkg.dev/colab-wheels/public/simple/\n",
            "Requirement already satisfied: torchsummary in /usr/local/lib/python3.8/dist-packages (1.5.1)\n",
            "----------------------------------------------------------------\n",
            "        Layer (type)               Output Shape         Param #\n",
            "================================================================\n",
            "            Conv2d-1            [-1, 8, 28, 28]              80\n",
            "              ReLU-2            [-1, 8, 28, 28]               0\n",
            "       BatchNorm2d-3            [-1, 8, 28, 28]              16\n",
            "           Dropout-4            [-1, 8, 28, 28]               0\n",
            "            Conv2d-5           [-1, 12, 28, 28]             876\n",
            "              ReLU-6           [-1, 12, 28, 28]               0\n",
            "       BatchNorm2d-7           [-1, 12, 28, 28]              24\n",
            "           Dropout-8           [-1, 12, 28, 28]               0\n",
            "         MaxPool2d-9           [-1, 12, 14, 14]               0\n",
            "           Conv2d-10            [-1, 8, 14, 14]             104\n",
            "             ReLU-11            [-1, 8, 14, 14]               0\n",
            "           Conv2d-12           [-1, 10, 14, 14]             730\n",
            "             ReLU-13           [-1, 10, 14, 14]               0\n",
            "      BatchNorm2d-14           [-1, 10, 14, 14]              20\n",
            "          Dropout-15           [-1, 10, 14, 14]               0\n",
            "           Conv2d-16           [-1, 16, 14, 14]           1,456\n",
            "             ReLU-17           [-1, 16, 14, 14]               0\n",
            "      BatchNorm2d-18           [-1, 16, 14, 14]              32\n",
            "          Dropout-19           [-1, 16, 14, 14]               0\n",
            "        MaxPool2d-20             [-1, 16, 7, 7]               0\n",
            "           Conv2d-21              [-1, 8, 7, 7]             136\n",
            "             ReLU-22              [-1, 8, 7, 7]               0\n",
            "           Conv2d-23             [-1, 10, 5, 5]             730\n",
            "             ReLU-24             [-1, 10, 5, 5]               0\n",
            "      BatchNorm2d-25             [-1, 10, 5, 5]              20\n",
            "          Dropout-26             [-1, 10, 5, 5]               0\n",
            "           Conv2d-27             [-1, 14, 5, 5]           1,274\n",
            "             ReLU-28             [-1, 14, 5, 5]               0\n",
            "      BatchNorm2d-29             [-1, 14, 5, 5]              28\n",
            "          Dropout-30             [-1, 14, 5, 5]               0\n",
            "           Conv2d-31             [-1, 16, 3, 3]           2,032\n",
            "             ReLU-32             [-1, 16, 3, 3]               0\n",
            "      BatchNorm2d-33             [-1, 16, 3, 3]              32\n",
            "          Dropout-34             [-1, 16, 3, 3]               0\n",
            "        AvgPool2d-35             [-1, 16, 1, 1]               0\n",
            "           Conv2d-36             [-1, 10, 1, 1]             170\n",
            "================================================================\n",
            "Total params: 7,760\n",
            "Trainable params: 7,760\n",
            "Non-trainable params: 0\n",
            "----------------------------------------------------------------\n",
            "Input size (MB): 0.00\n",
            "Forward/backward pass size (MB): 0.71\n",
            "Params size (MB): 0.03\n",
            "Estimated Total Size (MB): 0.74\n",
            "----------------------------------------------------------------\n"
          ]
        },
        {
          "output_type": "stream",
          "name": "stderr",
          "text": [
            "<ipython-input-44-960def53352f>:79: UserWarning: Implicit dimension choice for log_softmax has been deprecated. Change the call to include dim=X as an argument.\n",
            "  return F.log_softmax(x)\n"
          ]
        }
      ]
    },
    {
      "cell_type": "markdown",
      "source": [
        "## Initializing Data Transformation objects for Train and Test data"
      ],
      "metadata": {
        "id": "gnLe4qHt9TH7"
      }
    },
    {
      "cell_type": "code",
      "source": [
        "# Train Phase transformations\n",
        "train_transforms = transforms.Compose([\n",
        "                                      #  transforms.Resize((28, 28)),\n",
        "                                      #  transforms.ColorJitter(brightness=0.10, contrast=0.1, saturation=0.10, hue=0.1),\n",
        "                                       transforms.RandomRotation((-10.0, 10.0), fill=(1,)),\n",
        "                                       transforms.ToTensor(),\n",
        "                                       transforms.Normalize((0.1307,), (0.3081,)) # The mean and std have to be sequences (e.g., tuples), therefore you should add a comma after the values. \n",
        "                                       # Note the difference between (0.1307) and (0.1307,)\n",
        "                                       ])\n",
        "\n",
        "# Test Phase transformations\n",
        "test_transforms = transforms.Compose([\n",
        "                                      #  transforms.Resize((28, 28)),\n",
        "                                      #  transforms.ColorJitter(brightness=0.10, contrast=0.1, saturation=0.10, hue=0.1),\n",
        "                                       transforms.ToTensor(),\n",
        "                                       transforms.Normalize((0.1307,), (0.3081,))\n",
        "                                       ])"
      ],
      "metadata": {
        "id": "ZucsROFe9Szy"
      },
      "execution_count": 46,
      "outputs": []
    },
    {
      "cell_type": "code",
      "source": [
        "train = datasets.MNIST('./data', train=True, download=True, transform=train_transforms)\n",
        "test = datasets.MNIST('./data', train=False, download=True, transform=test_transforms)"
      ],
      "metadata": {
        "id": "wsA5hqU0-UK4"
      },
      "execution_count": 48,
      "outputs": []
    },
    {
      "cell_type": "markdown",
      "source": [
        "## Initializing Train and Test dataloders for MNIST Dataset"
      ],
      "metadata": {
        "id": "OaoHct-Z8KV9"
      }
    },
    {
      "cell_type": "code",
      "metadata": {
        "id": "DqTWLaM5GHgH",
        "colab": {
          "base_uri": "https://localhost:8080/"
        },
        "outputId": "1176a76a-e1b4-4f20-914e-13a9ab8b7f3e"
      },
      "source": [
        "\n",
        "SEED = 1\n",
        "\n",
        "# CUDA?\n",
        "cuda = torch.cuda.is_available()\n",
        "print(\"CUDA Available?\", cuda)\n",
        "\n",
        "# For reproducibility\n",
        "torch.manual_seed(SEED)\n",
        "\n",
        "if cuda:\n",
        "    torch.cuda.manual_seed(SEED)\n",
        "\n",
        "# dataloader arguments - something you'll fetch these from cmdprmt\n",
        "dataloader_args = dict(shuffle=True, batch_size=128, num_workers=4, pin_memory=True) if cuda else dict(shuffle=True, batch_size=64)\n",
        "\n",
        "# train dataloader\n",
        "train_loader = torch.utils.data.DataLoader(train, **dataloader_args)\n",
        "\n",
        "# test dataloader\n",
        "test_loader = torch.utils.data.DataLoader(test, **dataloader_args)"
      ],
      "execution_count": 49,
      "outputs": [
        {
          "output_type": "stream",
          "name": "stdout",
          "text": [
            "CUDA Available? True\n"
          ]
        }
      ]
    },
    {
      "cell_type": "markdown",
      "source": [
        "## Inspecting the Train data"
      ],
      "metadata": {
        "id": "LkdPZ8QH84kq"
      }
    },
    {
      "cell_type": "code",
      "source": [
        "dataiter = iter(train_loader)\n",
        "images, labels = next(dataiter)\n",
        "\n",
        "print(images.shape)\n",
        "print(labels.shape)\n",
        "\n",
        "# Let's visualize some of the images\n",
        "%matplotlib inline\n",
        "import matplotlib.pyplot as plt\n",
        "\n",
        "plt.imshow(images[0].numpy().squeeze(), cmap='gray_r')"
      ],
      "metadata": {
        "id": "UjewOPws84Ho",
        "outputId": "24007a5e-829c-4c1f-cf30-1c789ed23971",
        "colab": {
          "base_uri": "https://localhost:8080/",
          "height": 317
        }
      },
      "execution_count": 50,
      "outputs": [
        {
          "output_type": "stream",
          "name": "stdout",
          "text": [
            "torch.Size([128, 1, 28, 28])\n",
            "torch.Size([128])\n"
          ]
        },
        {
          "output_type": "execute_result",
          "data": {
            "text/plain": [
              "<matplotlib.image.AxesImage at 0x7f585eb50a30>"
            ]
          },
          "metadata": {},
          "execution_count": 50
        },
        {
          "output_type": "display_data",
          "data": {
            "text/plain": [
              "<Figure size 432x288 with 1 Axes>"
            ],
            "image/png": "[encoded data removed]"
          },
          "metadata": {
            "needs_background": "light"
          }
        }
      ]
    },
    {
      "cell_type": "code",
      "source": [
        "figure = plt.figure()\n",
        "num_of_images = 60\n",
        "for index in range(1, num_of_images + 1):\n",
        "    plt.subplot(6, 10, index)\n",
        "    plt.axis('off')\n",
        "    plt.imshow(images[index].numpy().squeeze(), cmap='gray_r')"
      ],
      "metadata": {
        "id": "sEaN5OZ384FO",
        "outputId": "67769c04-4663-4cad-a498-8254b86657c6",
        "colab": {
          "base_uri": "https://localhost:8080/",
          "height": 246
        }
      },
      "execution_count": 51,
      "outputs": [
        {
          "output_type": "display_data",
          "data": {
            "text/plain": [
              "<Figure size 432x288 with 60 Axes>"
            ],
            "image/png": "[encoded data removed]"
          },
          "metadata": {
            "needs_background": "light"
          }
        }
      ]
    },
    {
      "cell_type": "markdown",
      "source": [
        "## Train and Test Definitions"
      ],
      "metadata": {
        "id": "g2k_k1Zj8ksq"
      }
    },
    {
      "cell_type": "code",
      "metadata": {
        "id": "8fDefDhaFlwH"
      },
      "source": [
        "from tqdm import tqdm\n",
        "\n",
        "train_losses = []\n",
        "train_accs = []\n",
        "test_losses = []\n",
        "test_accs= []\n",
        "\n",
        "def train(model, device, train_loader, optimizer, epoch):\n",
        "    correct_preds = 0\n",
        "    processed = 0\n",
        "    model.train()\n",
        "    pbar = tqdm(train_loader)\n",
        "    for batch_idx, (data, target) in enumerate(pbar):\n",
        "        # Porting the data and targets in to the GPU\n",
        "        data, target = data.to(device), target.to(device)\n",
        "\n",
        "        # setting all the gradients to zero\n",
        "        optimizer.zero_grad()\n",
        "\n",
        "        # Predict\n",
        "        output = model(data)\n",
        "\n",
        "        # Loss calculation \n",
        "        loss = F.nll_loss(output, target)\n",
        "        train_losses.append(loss)\n",
        "\n",
        "        # Back propogation\n",
        "        loss.backward()\n",
        "\n",
        "        # Updating the weights with calculated gradients\n",
        "        optimizer.step()\n",
        "\n",
        "        # Calculating the correct number of predictions\n",
        "        preds = output.argmax(dim=1, keepdim=True)\n",
        "        correct_preds += preds.eq(target.view_as(preds)).sum().item()\n",
        "        processed += len(data)\n",
        "        \n",
        "        # Logging the results using Pbar\n",
        "        pbar.set_description(desc= f'Epoch={epoch} Loss={loss.item()} Batch_id={batch_idx} Accuracy={100*correct_preds/processed:0.2f}')\n",
        "\n",
        "        # Appending the training accuracies to the train_accs[]\n",
        "        train_accs.append(100*correct_preds/processed)\n",
        "        \n",
        "\n",
        "\n",
        "def test(model, device, test_loader):\n",
        "    model.eval()\n",
        "    test_loss = 0\n",
        "    correct = 0\n",
        "    with torch.no_grad():\n",
        "        for data, target in test_loader:\n",
        "            # Porting the data and targets in to the GPU\n",
        "            data, target = data.to(device), target.to(device)\n",
        "\n",
        "            # Predict \n",
        "            output = model(data)\n",
        "\n",
        "            # Test loss calculation\n",
        "            test_loss += F.nll_loss(output, target, reduction='sum').item()  # sum up batch loss\n",
        "            pred = output.argmax(dim=1, keepdim=True)  # get the index of the max log-probability\n",
        "            correct += pred.eq(target.view_as(pred)).sum().item()\n",
        "\n",
        "    test_loss /= len(test_loader.dataset)\n",
        "    test_losses.append(test_loss)\n",
        "\n",
        "    print('\\nTest set: Average loss: {:.4f}, Accuracy: {}/{} ({:.2f}%)\\n'.format(\n",
        "        test_loss, correct, len(test_loader.dataset),\n",
        "        100. * correct / len(test_loader.dataset)))\n",
        "    \n",
        "    test_accs.append(100. * correct / len(test_loader.dataset))"
      ],
      "execution_count": 52,
      "outputs": []
    },
    {
      "cell_type": "markdown",
      "source": [
        "## Training and Test loops"
      ],
      "metadata": {
        "id": "zE1doQX-8qtp"
      }
    },
    {
      "cell_type": "code",
      "metadata": {
        "id": "MMWbLWO6FuHb",
        "colab": {
          "base_uri": "https://localhost:8080/"
        },
        "outputId": "e8917613-f58e-49ed-e57d-15312f61c9e2"
      },
      "source": [
        "from torch.optim.lr_scheduler import StepLR\n",
        "\n",
        "model =  Net().to(device)\n",
        "optimizer = optim.SGD(model.parameters(), lr=0.01, momentum=0.9)\n",
        "scheduler = StepLR(optimizer, step_size=5, gamma=0.1)\n",
        "num_epochs = 15\n",
        "for epoch in range(0, num_epochs):\n",
        "    train(model, device, train_loader, optimizer, epoch)\n",
        "    scheduler.step()\n",
        "    test(model, device, test_loader)"
      ],
      "execution_count": 53,
      "outputs": [
        {
          "output_type": "stream",
          "name": "stderr",
          "text": [
            "  0%|          | 0/469 [00:00<?, ?it/s]<ipython-input-44-960def53352f>:79: UserWarning: Implicit dimension choice for log_softmax has been deprecated. Change the call to include dim=X as an argument.\n",
            "  return F.log_softmax(x)\n",
            "Epoch=0 Loss=0.10496430844068527 Batch_id=468 Accuracy=87.57: 100%|██████████| 469/469 [00:06<00:00, 71.38it/s]\n"
          ]
        },
        {
          "output_type": "stream",
          "name": "stdout",
          "text": [
            "\n",
            "Test set: Average loss: 0.0743, Accuracy: 9793/10000 (97.93%)\n",
            "\n"
          ]
        },
        {
          "output_type": "stream",
          "name": "stderr",
          "text": [
            "Epoch=1 Loss=0.05292993783950806 Batch_id=468 Accuracy=97.24: 100%|██████████| 469/469 [00:06<00:00, 75.21it/s]\n"
          ]
        },
        {
          "output_type": "stream",
          "name": "stdout",
          "text": [
            "\n",
            "Test set: Average loss: 0.0480, Accuracy: 9854/10000 (98.54%)\n",
            "\n"
          ]
        },
        {
          "output_type": "stream",
          "name": "stderr",
          "text": [
            "Epoch=2 Loss=0.01899578981101513 Batch_id=468 Accuracy=97.82: 100%|██████████| 469/469 [00:06<00:00, 74.45it/s]\n"
          ]
        },
        {
          "output_type": "stream",
          "name": "stdout",
          "text": [
            "\n",
            "Test set: Average loss: 0.0421, Accuracy: 9864/10000 (98.64%)\n",
            "\n"
          ]
        },
        {
          "output_type": "stream",
          "name": "stderr",
          "text": [
            "Epoch=3 Loss=0.11797485500574112 Batch_id=468 Accuracy=98.11: 100%|██████████| 469/469 [00:06<00:00, 76.26it/s]\n"
          ]
        },
        {
          "output_type": "stream",
          "name": "stdout",
          "text": [
            "\n",
            "Test set: Average loss: 0.0371, Accuracy: 9880/10000 (98.80%)\n",
            "\n"
          ]
        },
        {
          "output_type": "stream",
          "name": "stderr",
          "text": [
            "Epoch=4 Loss=0.02002876065671444 Batch_id=468 Accuracy=98.25: 100%|██████████| 469/469 [00:06<00:00, 76.00it/s]\n"
          ]
        },
        {
          "output_type": "stream",
          "name": "stdout",
          "text": [
            "\n",
            "Test set: Average loss: 0.0296, Accuracy: 9907/10000 (99.07%)\n",
            "\n"
          ]
        },
        {
          "output_type": "stream",
          "name": "stderr",
          "text": [
            "Epoch=5 Loss=0.049595773220062256 Batch_id=468 Accuracy=98.59: 100%|██████████| 469/469 [00:06<00:00, 74.64it/s]\n"
          ]
        },
        {
          "output_type": "stream",
          "name": "stdout",
          "text": [
            "\n",
            "Test set: Average loss: 0.0229, Accuracy: 9935/10000 (99.35%)\n",
            "\n"
          ]
        },
        {
          "output_type": "stream",
          "name": "stderr",
          "text": [
            "Epoch=6 Loss=0.08297168463468552 Batch_id=468 Accuracy=98.68: 100%|██████████| 469/469 [00:06<00:00, 74.21it/s]\n"
          ]
        },
        {
          "output_type": "stream",
          "name": "stdout",
          "text": [
            "\n",
            "Test set: Average loss: 0.0219, Accuracy: 9938/10000 (99.38%)\n",
            "\n"
          ]
        },
        {
          "output_type": "stream",
          "name": "stderr",
          "text": [
            "Epoch=7 Loss=0.06245630979537964 Batch_id=468 Accuracy=98.75: 100%|██████████| 469/469 [00:06<00:00, 74.64it/s]\n"
          ]
        },
        {
          "output_type": "stream",
          "name": "stdout",
          "text": [
            "\n",
            "Test set: Average loss: 0.0215, Accuracy: 9942/10000 (99.42%)\n",
            "\n"
          ]
        },
        {
          "output_type": "stream",
          "name": "stderr",
          "text": [
            "Epoch=8 Loss=0.016733292490243912 Batch_id=468 Accuracy=98.78: 100%|██████████| 469/469 [00:06<00:00, 74.80it/s]\n"
          ]
        },
        {
          "output_type": "stream",
          "name": "stdout",
          "text": [
            "\n",
            "Test set: Average loss: 0.0220, Accuracy: 9938/10000 (99.38%)\n",
            "\n"
          ]
        },
        {
          "output_type": "stream",
          "name": "stderr",
          "text": [
            "Epoch=9 Loss=0.04134121909737587 Batch_id=468 Accuracy=98.79: 100%|██████████| 469/469 [00:06<00:00, 74.71it/s]\n"
          ]
        },
        {
          "output_type": "stream",
          "name": "stdout",
          "text": [
            "\n",
            "Test set: Average loss: 0.0214, Accuracy: 9934/10000 (99.34%)\n",
            "\n"
          ]
        },
        {
          "output_type": "stream",
          "name": "stderr",
          "text": [
            "Epoch=10 Loss=0.09046515077352524 Batch_id=468 Accuracy=98.89: 100%|██████████| 469/469 [00:06<00:00, 71.87it/s]\n"
          ]
        },
        {
          "output_type": "stream",
          "name": "stdout",
          "text": [
            "\n",
            "Test set: Average loss: 0.0215, Accuracy: 9932/10000 (99.32%)\n",
            "\n"
          ]
        },
        {
          "output_type": "stream",
          "name": "stderr",
          "text": [
            "Epoch=11 Loss=0.010343118570744991 Batch_id=468 Accuracy=98.85: 100%|██████████| 469/469 [00:06<00:00, 75.21it/s]\n"
          ]
        },
        {
          "output_type": "stream",
          "name": "stdout",
          "text": [
            "\n",
            "Test set: Average loss: 0.0210, Accuracy: 9938/10000 (99.38%)\n",
            "\n"
          ]
        },
        {
          "output_type": "stream",
          "name": "stderr",
          "text": [
            "Epoch=12 Loss=0.16206704080104828 Batch_id=468 Accuracy=98.84: 100%|██████████| 469/469 [00:06<00:00, 73.26it/s]\n"
          ]
        },
        {
          "output_type": "stream",
          "name": "stdout",
          "text": [
            "\n",
            "Test set: Average loss: 0.0211, Accuracy: 9937/10000 (99.37%)\n",
            "\n"
          ]
        },
        {
          "output_type": "stream",
          "name": "stderr",
          "text": [
            "Epoch=13 Loss=0.009042645804584026 Batch_id=468 Accuracy=98.83: 100%|██████████| 469/469 [00:06<00:00, 74.41it/s]\n"
          ]
        },
        {
          "output_type": "stream",
          "name": "stdout",
          "text": [
            "\n",
            "Test set: Average loss: 0.0206, Accuracy: 9938/10000 (99.38%)\n",
            "\n"
          ]
        },
        {
          "output_type": "stream",
          "name": "stderr",
          "text": [
            "Epoch=14 Loss=0.026366332545876503 Batch_id=468 Accuracy=98.86: 100%|██████████| 469/469 [00:06<00:00, 75.64it/s]\n"
          ]
        },
        {
          "output_type": "stream",
          "name": "stdout",
          "text": [
            "\n",
            "Test set: Average loss: 0.0207, Accuracy: 9937/10000 (99.37%)\n",
            "\n"
          ]
        }
      ]
    },
    {
      "cell_type": "code",
      "source": [
        "import numpy \n",
        "train_losses = [i.cpu().detach().numpy() for i in train_losses]"
      ],
      "metadata": {
        "id": "atXIMoQjJCvl"
      },
      "execution_count": 54,
      "outputs": []
    },
    {
      "cell_type": "code",
      "source": [
        "\n",
        "test_losses = [i for i in test_losses]\n",
        "train_accs = [i for i in train_accs]\n",
        "test_accs = [i for i in test_accs]\n"
      ],
      "metadata": {
        "id": "WwbKY0A0F-29"
      },
      "execution_count": 55,
      "outputs": []
    },
    {
      "cell_type": "markdown",
      "source": [
        "## Training and testing Curves"
      ],
      "metadata": {
        "id": "_YfdCxp5Fd1A"
      }
    },
    {
      "cell_type": "code",
      "metadata": {
        "id": "So5uk4EkHW6R",
        "colab": {
          "base_uri": "https://localhost:8080/",
          "height": 624
        },
        "outputId": "d3538396-2f8d-452d-eace-aeea96f5b331"
      },
      "source": [
        "fig, axs = plt.subplots(2,2,figsize=(15,10))\n",
        "axs[0, 0].plot(train_losses)\n",
        "axs[0, 0].set_title(\"Training Loss\")\n",
        "axs[1, 0].plot(train_accs)\n",
        "axs[1, 0].set_title(\"Training Accuracy\")\n",
        "axs[0, 1].plot(test_losses)\n",
        "axs[0, 1].set_title(\"Test Loss\")\n",
        "axs[1, 1].plot(test_accs)\n",
        "axs[1, 1].set_title(\"Test Accuracy\")"
      ],
      "execution_count": 56,
      "outputs": [
        {
          "output_type": "execute_result",
          "data": {
            "text/plain": [
              "Text(0.5, 1.0, 'Test Accuracy')"
            ]
          },
          "metadata": {},
          "execution_count": 56
        },
        {
          "output_type": "display_data",
          "data": {
            "text/plain": [
              "<Figure size 1080x720 with 4 Axes>"
            ],
            "image/png": "[encoded data removed]"
          },
          "metadata": {
            "needs_background": "light"
          }
        }
      ]
    }
  ]
}